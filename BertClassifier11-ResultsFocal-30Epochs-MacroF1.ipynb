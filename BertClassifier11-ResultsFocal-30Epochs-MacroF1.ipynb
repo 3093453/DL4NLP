{
 "cells": [
  {
   "cell_type": "markdown",
   "id": "c572f84e",
   "metadata": {},
   "source": [
    "# Overview\n",
    "\n",
    "In this Notebook we try to repeat previous intermediate experiments, just with a higher number of epochs, which turn out to be very important when using Focal Loss.\n",
    "\n",
    "In the end you find results for both backtranslations and german Textstellen, and a comparison of both.\n",
    "\n",
    "Also "
   ]
  },
  {
   "cell_type": "code",
   "execution_count": 1,
   "id": "6bcdfdc9",
   "metadata": {},
   "outputs": [],
   "source": [
    "import numpy as np\n",
    "import pandas as pd\n",
    "import torch\n",
    "\n",
    "import matplotlib.pyplot as plt\n",
    "import seaborn as sns\n",
    "\n",
    "import os\n",
    "import re\n",
    "\n",
    "np.random.seed(3093453)\n",
    "sns.set(context=\"talk\", style=\"darkgrid\")"
   ]
  },
  {
   "cell_type": "code",
   "execution_count": 2,
   "id": "e6c8d64d",
   "metadata": {},
   "outputs": [
    {
     "data": {
      "text/html": [
       "<div>\n",
       "<style scoped>\n",
       "    .dataframe tbody tr th:only-of-type {\n",
       "        vertical-align: middle;\n",
       "    }\n",
       "\n",
       "    .dataframe tbody tr th {\n",
       "        vertical-align: top;\n",
       "    }\n",
       "\n",
       "    .dataframe thead th {\n",
       "        text-align: right;\n",
       "    }\n",
       "</style>\n",
       "<table border=\"1\" class=\"dataframe\">\n",
       "  <thead>\n",
       "    <tr style=\"text-align: right;\">\n",
       "      <th></th>\n",
       "      <th>index</th>\n",
       "      <th>Textstelle</th>\n",
       "      <th>Metapher</th>\n",
       "      <th>Metaphernkandidat</th>\n",
       "      <th>Nein</th>\n",
       "      <th>Metapher?</th>\n",
       "      <th>Fokus</th>\n",
       "      <th>Rahmen</th>\n",
       "      <th>Annotator</th>\n",
       "      <th>orig</th>\n",
       "      <th>lang</th>\n",
       "      <th>sentence_id</th>\n",
       "    </tr>\n",
       "  </thead>\n",
       "  <tbody>\n",
       "    <tr>\n",
       "      <th>0</th>\n",
       "      <td>0</td>\n",
       "      <td>Der politische Körper verwendet in beiden Fäll...</td>\n",
       "      <td>3</td>\n",
       "      <td>1</td>\n",
       "      <td>0</td>\n",
       "      <td>Metapher</td>\n",
       "      <td>['Zähnen und Krallen', 'Zähnen und Krallen', n...</td>\n",
       "      <td>['der politische Körper', 'der politische Körp...</td>\n",
       "      <td>['B', 'K', 'A', 'GoldStandard']</td>\n",
       "      <td>\"Der politische Körper verwendet in beiden Fä...</td>\n",
       "      <td>de</td>\n",
       "      <td>0</td>\n",
       "    </tr>\n",
       "    <tr>\n",
       "      <th>1</th>\n",
       "      <td>1</td>\n",
       "      <td>Immer noch wird durch die protestantische Lehr...</td>\n",
       "      <td>0</td>\n",
       "      <td>4</td>\n",
       "      <td>0</td>\n",
       "      <td>Metaphernkandidat</td>\n",
       "      <td>[nan, nan, nan, nan]</td>\n",
       "      <td>[nan, nan, nan, nan]</td>\n",
       "      <td>['B', 'K', 'A', 'GoldStandard']</td>\n",
       "      <td>\"Immer noch wird durch die protestantische Le...</td>\n",
       "      <td>de</td>\n",
       "      <td>1</td>\n",
       "    </tr>\n",
       "    <tr>\n",
       "      <th>2</th>\n",
       "      <td>2</td>\n",
       "      <td>Kein Zweifel, schreibt Alb. Schaeffle, vorauss...</td>\n",
       "      <td>0</td>\n",
       "      <td>4</td>\n",
       "      <td>0</td>\n",
       "      <td>Metaphernkandidat</td>\n",
       "      <td>[nan, nan, nan, nan]</td>\n",
       "      <td>[nan, nan, nan, nan]</td>\n",
       "      <td>['B', 'K', 'A', 'GoldStandard']</td>\n",
       "      <td>\"Kein Zweifel\", schreibt Alb. Schaeffle 1), v...</td>\n",
       "      <td>de</td>\n",
       "      <td>2</td>\n",
       "    </tr>\n",
       "    <tr>\n",
       "      <th>3</th>\n",
       "      <td>3</td>\n",
       "      <td>Mit je weiterem Blick wir die Stoffwelt zu übe...</td>\n",
       "      <td>1</td>\n",
       "      <td>3</td>\n",
       "      <td>0</td>\n",
       "      <td>Metaphernkandidat</td>\n",
       "      <td>[nan, 'Stoffwelt, verzwergt und entkleidet', n...</td>\n",
       "      <td>[nan, 'unser praktisches Ideal', nan, nan]</td>\n",
       "      <td>['B', 'K', 'A', 'GoldStandard']</td>\n",
       "      <td>\"Mit je weiterem Blick wir die Stoffwelt zu ü...</td>\n",
       "      <td>de</td>\n",
       "      <td>3</td>\n",
       "    </tr>\n",
       "    <tr>\n",
       "      <th>4</th>\n",
       "      <td>4</td>\n",
       "      <td>Solange das Menschengeschlecht seinen Zerstöre...</td>\n",
       "      <td>0</td>\n",
       "      <td>4</td>\n",
       "      <td>0</td>\n",
       "      <td>Metaphernkandidat</td>\n",
       "      <td>[nan, nan, nan, nan]</td>\n",
       "      <td>[nan, nan, nan, nan]</td>\n",
       "      <td>['B', 'K', 'A', 'GoldStandard']</td>\n",
       "      <td>\"Solange das Menschengeschlecht seinen Zerstö...</td>\n",
       "      <td>de</td>\n",
       "      <td>4</td>\n",
       "    </tr>\n",
       "    <tr>\n",
       "      <th>...</th>\n",
       "      <td>...</td>\n",
       "      <td>...</td>\n",
       "      <td>...</td>\n",
       "      <td>...</td>\n",
       "      <td>...</td>\n",
       "      <td>...</td>\n",
       "      <td>...</td>\n",
       "      <td>...</td>\n",
       "      <td>...</td>\n",
       "      <td>...</td>\n",
       "      <td>...</td>\n",
       "      <td>...</td>\n",
       "    </tr>\n",
       "    <tr>\n",
       "      <th>3960</th>\n",
       "      <td>3960</td>\n",
       "      <td>In der Zeit des Humanismus und der Reformation...</td>\n",
       "      <td>0</td>\n",
       "      <td>0</td>\n",
       "      <td>1</td>\n",
       "      <td>Nein</td>\n",
       "      <td>NaN</td>\n",
       "      <td>NaN</td>\n",
       "      <td>X</td>\n",
       "      <td>In der Zeit des Humanismus und der Reformation...</td>\n",
       "      <td>de</td>\n",
       "      <td>4759</td>\n",
       "    </tr>\n",
       "    <tr>\n",
       "      <th>3961</th>\n",
       "      <td>3961</td>\n",
       "      <td>Den Mittelpunkt der Bildung stellten die alten...</td>\n",
       "      <td>0</td>\n",
       "      <td>0</td>\n",
       "      <td>1</td>\n",
       "      <td>Nein</td>\n",
       "      <td>NaN</td>\n",
       "      <td>NaN</td>\n",
       "      <td>X</td>\n",
       "      <td>Den Mittelpunkt der Bildung stellten die alten...</td>\n",
       "      <td>de</td>\n",
       "      <td>4760</td>\n",
       "    </tr>\n",
       "    <tr>\n",
       "      <th>3962</th>\n",
       "      <td>3962</td>\n",
       "      <td>Jahrhunderts hat eine beständige Differenzieru...</td>\n",
       "      <td>0</td>\n",
       "      <td>0</td>\n",
       "      <td>1</td>\n",
       "      <td>Nein</td>\n",
       "      <td>NaN</td>\n",
       "      <td>NaN</td>\n",
       "      <td>X</td>\n",
       "      <td>Jahrhunderts hat eine beständige Differenzieru...</td>\n",
       "      <td>de</td>\n",
       "      <td>4761</td>\n",
       "    </tr>\n",
       "    <tr>\n",
       "      <th>3963</th>\n",
       "      <td>3963</td>\n",
       "      <td>Die Pädagogik der Neuzeit scheint davon wenig ...</td>\n",
       "      <td>0</td>\n",
       "      <td>0</td>\n",
       "      <td>1</td>\n",
       "      <td>Nein</td>\n",
       "      <td>NaN</td>\n",
       "      <td>NaN</td>\n",
       "      <td>X</td>\n",
       "      <td>Die Pädagogik der Neuzeit scheint davon wenig ...</td>\n",
       "      <td>de</td>\n",
       "      <td>4762</td>\n",
       "    </tr>\n",
       "    <tr>\n",
       "      <th>3964</th>\n",
       "      <td>3964</td>\n",
       "      <td>Die Jugend in den Städten ist meistens unterer...</td>\n",
       "      <td>0</td>\n",
       "      <td>0</td>\n",
       "      <td>1</td>\n",
       "      <td>Nein</td>\n",
       "      <td>NaN</td>\n",
       "      <td>NaN</td>\n",
       "      <td>X</td>\n",
       "      <td>Die Jugend in den Städten ist meistens unterer...</td>\n",
       "      <td>de</td>\n",
       "      <td>4763</td>\n",
       "    </tr>\n",
       "  </tbody>\n",
       "</table>\n",
       "<p>7960 rows × 12 columns</p>\n",
       "</div>"
      ],
      "text/plain": [
       "      index                                         Textstelle  Metapher  \\\n",
       "0         0  Der politische Körper verwendet in beiden Fäll...         3   \n",
       "1         1  Immer noch wird durch die protestantische Lehr...         0   \n",
       "2         2  Kein Zweifel, schreibt Alb. Schaeffle, vorauss...         0   \n",
       "3         3  Mit je weiterem Blick wir die Stoffwelt zu übe...         1   \n",
       "4         4  Solange das Menschengeschlecht seinen Zerstöre...         0   \n",
       "...     ...                                                ...       ...   \n",
       "3960   3960  In der Zeit des Humanismus und der Reformation...         0   \n",
       "3961   3961  Den Mittelpunkt der Bildung stellten die alten...         0   \n",
       "3962   3962  Jahrhunderts hat eine beständige Differenzieru...         0   \n",
       "3963   3963  Die Pädagogik der Neuzeit scheint davon wenig ...         0   \n",
       "3964   3964  Die Jugend in den Städten ist meistens unterer...         0   \n",
       "\n",
       "      Metaphernkandidat  Nein          Metapher?  \\\n",
       "0                     1     0           Metapher   \n",
       "1                     4     0  Metaphernkandidat   \n",
       "2                     4     0  Metaphernkandidat   \n",
       "3                     3     0  Metaphernkandidat   \n",
       "4                     4     0  Metaphernkandidat   \n",
       "...                 ...   ...                ...   \n",
       "3960                  0     1               Nein   \n",
       "3961                  0     1               Nein   \n",
       "3962                  0     1               Nein   \n",
       "3963                  0     1               Nein   \n",
       "3964                  0     1               Nein   \n",
       "\n",
       "                                                  Fokus  \\\n",
       "0     ['Zähnen und Krallen', 'Zähnen und Krallen', n...   \n",
       "1                                  [nan, nan, nan, nan]   \n",
       "2                                  [nan, nan, nan, nan]   \n",
       "3     [nan, 'Stoffwelt, verzwergt und entkleidet', n...   \n",
       "4                                  [nan, nan, nan, nan]   \n",
       "...                                                 ...   \n",
       "3960                                                NaN   \n",
       "3961                                                NaN   \n",
       "3962                                                NaN   \n",
       "3963                                                NaN   \n",
       "3964                                                NaN   \n",
       "\n",
       "                                                 Rahmen  \\\n",
       "0     ['der politische Körper', 'der politische Körp...   \n",
       "1                                  [nan, nan, nan, nan]   \n",
       "2                                  [nan, nan, nan, nan]   \n",
       "3            [nan, 'unser praktisches Ideal', nan, nan]   \n",
       "4                                  [nan, nan, nan, nan]   \n",
       "...                                                 ...   \n",
       "3960                                                NaN   \n",
       "3961                                                NaN   \n",
       "3962                                                NaN   \n",
       "3963                                                NaN   \n",
       "3964                                                NaN   \n",
       "\n",
       "                            Annotator  \\\n",
       "0     ['B', 'K', 'A', 'GoldStandard']   \n",
       "1     ['B', 'K', 'A', 'GoldStandard']   \n",
       "2     ['B', 'K', 'A', 'GoldStandard']   \n",
       "3     ['B', 'K', 'A', 'GoldStandard']   \n",
       "4     ['B', 'K', 'A', 'GoldStandard']   \n",
       "...                               ...   \n",
       "3960                                X   \n",
       "3961                                X   \n",
       "3962                                X   \n",
       "3963                                X   \n",
       "3964                                X   \n",
       "\n",
       "                                                   orig lang  sentence_id  \n",
       "0      \"Der politische Körper verwendet in beiden Fä...   de            0  \n",
       "1      \"Immer noch wird durch die protestantische Le...   de            1  \n",
       "2      \"Kein Zweifel\", schreibt Alb. Schaeffle 1), v...   de            2  \n",
       "3      \"Mit je weiterem Blick wir die Stoffwelt zu ü...   de            3  \n",
       "4      \"Solange das Menschengeschlecht seinen Zerstö...   de            4  \n",
       "...                                                 ...  ...          ...  \n",
       "3960  In der Zeit des Humanismus und der Reformation...   de         4759  \n",
       "3961  Den Mittelpunkt der Bildung stellten die alten...   de         4760  \n",
       "3962  Jahrhunderts hat eine beständige Differenzieru...   de         4761  \n",
       "3963  Die Pädagogik der Neuzeit scheint davon wenig ...   de         4762  \n",
       "3964  Die Jugend in den Städten ist meistens unterer...   de         4763  \n",
       "\n",
       "[7960 rows x 12 columns]"
      ]
     },
     "execution_count": 2,
     "metadata": {},
     "output_type": "execute_result"
    }
   ],
   "source": [
    "cwd = os.getcwd()\n",
    "folder = \"clean+translated-data\"\n",
    "file = \"total.csv\"\n",
    "path = \"/\".join( (cwd, folder, file) )\n",
    "\n",
    "df = pd.read_csv(path, index_col=0)\n",
    "#df.reset_index(inplace=True)\n",
    "df"
   ]
  },
  {
   "cell_type": "markdown",
   "id": "7841e1da",
   "metadata": {},
   "source": [
    "## Sentence ID\n",
    "\n",
    "We need to do this to make sure we dont have a german sentence in the train data\n",
    "... and a english version in the test data, which skewes the results\n",
    "\n",
    "(Essentially the model would just memorize seen points, rather than learn what a metaphor is)\n",
    "\n"
   ]
  },
  {
   "cell_type": "code",
   "execution_count": 3,
   "id": "dbd90576",
   "metadata": {},
   "outputs": [],
   "source": [
    "labs = [\"Metapher\", \"Metaphernkandidat\", \"Nein\"]\n",
    "labels = dict(zip(range(3), labs))\n",
    "\n",
    "# impute missing labels with silver labels\n",
    "missing_lab = df[\"Metapher?\"].isnull()\n",
    "df.loc[missing_lab, \"Metapher?\"] = [labels[i] for i in df.loc[missing_lab, labs].to_numpy().argmax(axis=1)]"
   ]
  },
  {
   "cell_type": "markdown",
   "id": "37bc7ab8",
   "metadata": {},
   "source": [
    "# BERT CLASSIFIER\n",
    "\n",
    "https://towardsdatascience.com/text-classification-with-bert-in-pytorch-887965e5820f\n",
    "\n",
    "## DATASET"
   ]
  },
  {
   "cell_type": "code",
   "execution_count": 4,
   "id": "a3eee607",
   "metadata": {},
   "outputs": [],
   "source": [
    "from transformers import BertTokenizer\n",
    "\n",
    "tokenizer = BertTokenizer.from_pretrained(\"redewiedergabe/bert-base-historical-german-rw-cased\")\n",
    "\n",
    "# Later: non-Metaphor: 0, Candidate: 1, Metaphor: 2\n",
    "labs = [\"Metapher\", \"Metaphernkandidat\", \"Nein\"]\n",
    "\n",
    "labels = dict(zip(labs, range(3)))\n",
    "labels\n",
    "\n",
    "class Dataset(torch.utils.data.Dataset):\n",
    "\n",
    "    def __init__(self, df):\n",
    "        # gold and silver labels\n",
    "        \n",
    "        self.labels = [labels[label] for label in df[\"Metapher?\"]]\n",
    "        self.labels = df[labs].to_numpy().argmax(axis=1)\n",
    "        self.texts = [tokenizer(text, \n",
    "                               padding='max_length', max_length = 512, truncation=True,\n",
    "                                return_tensors=\"pt\") for text in df['Textstelle']]\n",
    "\n",
    "    def classes(self):\n",
    "        return self.labels\n",
    "\n",
    "    def __len__(self):\n",
    "        return len(self.labels)\n",
    "\n",
    "    def get_batch_labels(self, idx):\n",
    "        # Fetch a batch of labels\n",
    "        return np.array(self.labels[idx])\n",
    "\n",
    "    def get_batch_texts(self, idx):\n",
    "        # Fetch a batch of inputs\n",
    "        return self.texts[idx]\n",
    "\n",
    "    def __getitem__(self, idx):\n",
    "\n",
    "        batch_texts = self.get_batch_texts(idx)\n",
    "        batch_y = self.get_batch_labels(idx)\n",
    "\n",
    "        return batch_texts, batch_y"
   ]
  },
  {
   "cell_type": "markdown",
   "id": "77d890c9",
   "metadata": {},
   "source": [
    "## Train test split:\n",
    "\n",
    "create a original-sentence id\n",
    "\n",
    "We need to do this to make sure we dont have a german sentence in the train data and a non-german version in the test data, which skewes the results\n",
    "\n",
    "(Essentially the model would just memorize seen points, rather than learn what a metaphor is)"
   ]
  },
  {
   "cell_type": "code",
   "execution_count": 5,
   "id": "17b2c756",
   "metadata": {},
   "outputs": [
    {
     "name": "stdout",
     "output_type": "stream",
     "text": [
      "3811 476 477\n",
      "6411 804 745\n"
     ]
    }
   ],
   "source": [
    "unique_sentences = df.orig.unique()\n",
    "\n",
    "sentence_id = [np.where(sentence == unique_sentences)[0].item() for sentence in df.orig]\n",
    "df[\"sentence_id\"] = sentence_id\n",
    "\n",
    "unique_sentence_ids = df.sentence_id.unique()\n",
    "n_unique_sentences = len(unique_sentence_ids)\n",
    "\n",
    "\n",
    "# randomize data before splitting\n",
    "sample = np.random.choice(unique_sentence_ids, n_unique_sentences, replace=False)\n",
    "\n",
    "# train/val/test split of original sentences\n",
    "train_sentence_ids,val_sentence_ids,test_sentence_ids = np.split(sample,\n",
    "                                                                 [int(.8*n_unique_sentences),\n",
    "                                                                  int(.9*n_unique_sentences)])\n",
    "\n",
    "print(len(train_sentence_ids),len(val_sentence_ids), len(test_sentence_ids))\n",
    "\n",
    "# train/val/test split rows\n",
    "df_train = df[np.isin(df.sentence_id, train_sentence_ids)]\n",
    "df_val   = df[np.isin(df.sentence_id, val_sentence_ids  )]\n",
    "df_test  = df[np.isin(df.sentence_id, test_sentence_ids )]\n",
    "\n",
    "print(len(df_train),len(df_val), len(df_test))"
   ]
  },
  {
   "cell_type": "code",
   "execution_count": 6,
   "id": "2efcba32",
   "metadata": {},
   "outputs": [
    {
     "data": {
      "image/png": "[encoded data removed]",
      "text/plain": [
       "<Figure size 936x576 with 1 Axes>"
      ]
     },
     "metadata": {
      "needs_background": "light"
     },
     "output_type": "display_data"
    }
   ],
   "source": [
    "vc = pd.Series([labels[label] for label in df_train[\"Metapher?\"]]).value_counts()\n",
    "\n",
    "fig, ax = plt.subplots(figsize=(13, 8))\n",
    "plt.bar(vc.index, vc)\n",
    "plt.xticks(range(3),labs);"
   ]
  },
  {
   "cell_type": "markdown",
   "id": "8d0c56fb",
   "metadata": {},
   "source": [
    "## Building a Bert Model"
   ]
  },
  {
   "cell_type": "code",
   "execution_count": 7,
   "id": "1e5f0e60",
   "metadata": {},
   "outputs": [
    {
     "name": "stderr",
     "output_type": "stream",
     "text": [
      "Some weights of the model checkpoint at redewiedergabe/bert-base-historical-german-rw-cased were not used when initializing BertModel: ['cls.predictions.transform.LayerNorm.bias', 'cls.seq_relationship.bias', 'cls.predictions.bias', 'cls.predictions.transform.dense.bias', 'cls.seq_relationship.weight', 'cls.predictions.decoder.weight', 'cls.predictions.transform.LayerNorm.weight', 'cls.predictions.transform.dense.weight']\n",
      "- This IS expected if you are initializing BertModel from the checkpoint of a model trained on another task or with another architecture (e.g. initializing a BertForSequenceClassification model from a BertForPreTraining model).\n",
      "- This IS NOT expected if you are initializing BertModel from the checkpoint of a model that you expect to be exactly identical (initializing a BertForSequenceClassification model from a BertForSequenceClassification model).\n"
     ]
    }
   ],
   "source": [
    "from torch import nn\n",
    "from transformers import BertModel\n",
    "\n",
    "class BertClassifier(nn.Module):\n",
    "\n",
    "    def __init__(self, dropout=0.5, freeze = 0.8):\n",
    "\n",
    "        super(BertClassifier, self).__init__()\n",
    "\n",
    "        self.bert = BertModel.from_pretrained(\"redewiedergabe/bert-base-historical-german-rw-cased\")\n",
    "        \n",
    "        params = self.bert.parameters()\n",
    "        for i, param in enumerate(params):\n",
    "            if i > 197 * freeze:\n",
    "                continue\n",
    "            param.requires_grad = False\n",
    "            \n",
    "        self.dropout1    = nn.Dropout(dropout)\n",
    "        self.linear1     = nn.Linear(768, 768)\n",
    "        self.activation1 = nn.ReLU(inplace=False)\n",
    "        self.dropout2    = nn.Dropout(dropout)\n",
    "        self.linear2     = nn.Linear(768, 3)\n",
    "        self.softmax     = nn.Softmax(dim=1)\n",
    "\n",
    "    def forward(self, input_id, mask):\n",
    "\n",
    "        _, pooled_output = self.bert(input_ids= input_id, attention_mask=mask,return_dict=False)\n",
    "        \n",
    "        dropout_output1 = self.dropout1(pooled_output)\n",
    "        linear_output1 = self.linear1(dropout_output1)\n",
    "        activation1 = self.activation1(linear_output1)\n",
    "        \n",
    "        dropout_output2 = self.dropout2(activation1)\n",
    "        linear_output2 = self.linear2(dropout_output2)\n",
    "        \n",
    "        final_layer = self.softmax(linear_output2)\n",
    "\n",
    "        return final_layer\n",
    "    \n",
    "model = BertClassifier()"
   ]
  },
  {
   "cell_type": "markdown",
   "id": "d59582b8",
   "metadata": {},
   "source": [
    "## Loss Functions:\n",
    "\n",
    "https://www.kaggle.com/code/bigironsphere/loss-function-library-keras-pytorch/notebook"
   ]
  },
  {
   "cell_type": "code",
   "execution_count": 8,
   "id": "ae579690",
   "metadata": {},
   "outputs": [],
   "source": [
    "#PyTorch\n",
    "class DiceLoss(nn.Module):\n",
    "    def __init__(self, weight=None, size_average=True):\n",
    "        super(DiceLoss, self).__init__()\n",
    "    def forward(self, inputs, targets, smooth=1):\n",
    "        \n",
    "        #comment out if your model contains a sigmoid or equivalent activation layer\n",
    "        #inputs = F.sigmoid(inputs)   \n",
    "        inputs = inputs.softmax(dim=-1)\n",
    "        \n",
    "        # turn target from indices to n x 3 dummy tensor\n",
    "        bs = len(targets)\n",
    "        y = torch.zeros(bs,3)\n",
    "        y[torch.arange(0, bs), targets.long()] = 1\n",
    "        targets = y\n",
    "        \n",
    "        #flatten label and prediction tensors\n",
    "        inputs = inputs.view(-1)\n",
    "        targets = targets.view(-1)\n",
    "        \n",
    "        intersection = (inputs * targets).sum()                            \n",
    "        dice = (2.*intersection + smooth)/(inputs.sum() + targets.sum() + smooth)  \n",
    "        \n",
    "        return 1 - dice"
   ]
  },
  {
   "cell_type": "code",
   "execution_count": 9,
   "id": "61a31a98",
   "metadata": {},
   "outputs": [],
   "source": [
    "import torch.nn.functional as F\n",
    "\n",
    "#PyTorch\n",
    "ALPHA = 0.8\n",
    "GAMMA = 2\n",
    "\n",
    "class FocalLoss(nn.Module):\n",
    "    def __init__(self, weight=None, size_average=True):\n",
    "        super(FocalLoss, self).__init__()\n",
    "\n",
    "    def forward(self, inputs, targets, alpha=ALPHA, gamma=GAMMA, smooth=1):\n",
    "        \n",
    "        #comment out if your model contains a sigmoid or equivalent activation layer\n",
    "        #inputs = F.sigmoid(inputs)       \n",
    "        \n",
    "        # turn target from indices to n x 3 dummy tensor\n",
    "        bs = len(targets)\n",
    "        y = torch.zeros(bs,3)\n",
    "        y[torch.arange(0, bs), targets.long()] = 1\n",
    "        targets = y\n",
    "        \n",
    "        #flatten label and prediction tensors\n",
    "        inputs = inputs.view(-1)\n",
    "        targets = targets.view(-1)\n",
    "        \n",
    "        #first compute binary cross-entropy \n",
    "        BCE = F.binary_cross_entropy(inputs, targets, reduction='mean')\n",
    "        BCE_EXP = torch.exp(-BCE)\n",
    "        focal_loss = alpha * (1-BCE_EXP)**gamma * BCE\n",
    "                       \n",
    "        return focal_loss"
   ]
  },
  {
   "cell_type": "code",
   "execution_count": 10,
   "id": "5c7dc73c",
   "metadata": {},
   "outputs": [
    {
     "name": "stdout",
     "output_type": "stream",
     "text": [
      "FocalLoss\n"
     ]
    }
   ],
   "source": [
    "loss_functions = [#nn.CrossEntropyLoss,\n",
    "                  FocalLoss,\n",
    "                  #DiceLoss\n",
    "]\n",
    "\n",
    "for func in loss_functions:\n",
    "    print(func.__name__)"
   ]
  },
  {
   "cell_type": "code",
   "execution_count": 11,
   "id": "4ba65615",
   "metadata": {},
   "outputs": [
    {
     "name": "stderr",
     "output_type": "stream",
     "text": [
      "Some weights of the model checkpoint at redewiedergabe/bert-base-historical-german-rw-cased were not used when initializing BertModel: ['cls.predictions.transform.LayerNorm.bias', 'cls.seq_relationship.bias', 'cls.predictions.bias', 'cls.predictions.transform.dense.bias', 'cls.seq_relationship.weight', 'cls.predictions.decoder.weight', 'cls.predictions.transform.LayerNorm.weight', 'cls.predictions.transform.dense.weight']\n",
      "- This IS expected if you are initializing BertModel from the checkpoint of a model trained on another task or with another architecture (e.g. initializing a BertForSequenceClassification model from a BertForPreTraining model).\n",
      "- This IS NOT expected if you are initializing BertModel from the checkpoint of a model that you expect to be exactly identical (initializing a BertForSequenceClassification model from a BertForSequenceClassification model).\n"
     ]
    }
   ],
   "source": [
    "#model1 = BertClassifier()\n",
    "model2 = BertClassifier()\n",
    "#model3 = BertClassifier()\n",
    "\n",
    "models = [#model1,\n",
    "          model2,\n",
    "          #model3\n",
    "]\n"
   ]
  },
  {
   "cell_type": "code",
   "execution_count": 12,
   "id": "7bd5e18c",
   "metadata": {},
   "outputs": [
    {
     "data": {
      "text/html": [
       "<div>\n",
       "<style scoped>\n",
       "    .dataframe tbody tr th:only-of-type {\n",
       "        vertical-align: middle;\n",
       "    }\n",
       "\n",
       "    .dataframe tbody tr th {\n",
       "        vertical-align: top;\n",
       "    }\n",
       "\n",
       "    .dataframe thead th {\n",
       "        text-align: right;\n",
       "    }\n",
       "</style>\n",
       "<table border=\"1\" class=\"dataframe\">\n",
       "  <thead>\n",
       "    <tr style=\"text-align: right;\">\n",
       "      <th></th>\n",
       "      <th>epoch</th>\n",
       "      <th>loss_func</th>\n",
       "      <th>metric</th>\n",
       "      <th>label</th>\n",
       "      <th>score</th>\n",
       "    </tr>\n",
       "  </thead>\n",
       "  <tbody>\n",
       "  </tbody>\n",
       "</table>\n",
       "</div>"
      ],
      "text/plain": [
       "Empty DataFrame\n",
       "Columns: [epoch, loss_func, metric, label, score]\n",
       "Index: []"
      ]
     },
     "execution_count": 12,
     "metadata": {},
     "output_type": "execute_result"
    }
   ],
   "source": [
    "metric_df = pd.DataFrame({\"epoch\":[],\n",
    "                          \"loss_func\":[],\n",
    "                          \"metric\": [],\n",
    "                          \"label\": [],\n",
    "                          \"score\":[]})\n",
    "metric_df"
   ]
  },
  {
   "cell_type": "code",
   "execution_count": 13,
   "id": "6f11c2dd",
   "metadata": {},
   "outputs": [],
   "source": [
    "def smallestDivisor(n):\n",
    "    \"\"\"helper function for validation set\n",
    "        used to find appropriate batch size\"\"\"\n",
    "    # if divisible by 2\n",
    "    if (n % 2 == 0):\n",
    "        return 2;\n",
    " \n",
    "    # iterate from 3 to sqrt(n)\n",
    "    i = 3;\n",
    "    while(i * i <= n):\n",
    "        if (n % i == 0):\n",
    "            return i;\n",
    "        i += 2;\n",
    " \n",
    "    return n;"
   ]
  },
  {
   "cell_type": "code",
   "execution_count": 14,
   "id": "e26df395",
   "metadata": {
    "scrolled": false
   },
   "outputs": [],
   "source": [
    "from sklearn.metrics import precision_recall_curve, average_precision_score, f1_score\n",
    "\n",
    "from torch.optim import Adam\n",
    "from tqdm.notebook import tqdm\n",
    "\n",
    "import time\n",
    "\n",
    "\n",
    "\n",
    "\n",
    "def train(model, train_data, val_data,\n",
    "          epochs=1, learning_rate=1e-6,\n",
    "          LossFunction = nn.CrossEntropyLoss,\n",
    "          df = metric_df, batch_size = 8):\n",
    "    \n",
    "    # Basic setup: data, criterion, optimizer\n",
    "    train, val = Dataset(train_data), Dataset(val_data)\n",
    "\n",
    "    train_dataloader = torch.utils.data.DataLoader(train, batch_size=batch_size, shuffle=True)\n",
    "    val_batch_size = smallestDivisor(len(val))\n",
    "    #val_batch_size=4\n",
    "    val_dataloader = torch.utils.data.DataLoader(val, batch_size=val_batch_size)\n",
    "    \n",
    "    criterion = LossFunction()\n",
    "    optimizer = Adam(model.parameters(), lr= learning_rate)\n",
    "    \n",
    "    # make use of GPU acceleration if available\n",
    "    # Custom Loss functions are sadly not supported yet :(\n",
    "    \n",
    "    if torch.backends.mps.is_available() and LossFunction.__name__ == \"CrossEntropyLoss\":\n",
    "        use_device = \"mps\"\n",
    "        print(\"Using M1 Chip! for training\")\n",
    "\n",
    "    elif torch.cuda.is_available():\n",
    "        use_device = \"cuda\"\n",
    "        print(\"Using Graphics Card for training\")\n",
    "    else:\n",
    "        use_device = \"cpu\"\n",
    "        print(\"Using regular CPU for training\")\n",
    "\n",
    "    device = torch.device(use_device)\n",
    "    model = model.to(device)\n",
    "    criterion = criterion.to(device)\n",
    "    \n",
    "    #plot metrics:\n",
    "    metric_df = pd.DataFrame({\"epoch\":[],\n",
    "                              \"loss_func\":[],\n",
    "                              \"metric\": [],\n",
    "                              \"label\": [],\n",
    "                              \"score\":[]})\n",
    "    # training loop\n",
    "    for epoch_num in range(epochs):\n",
    "\n",
    "            total_acc_train = 0\n",
    "            total_loss_train = 0\n",
    "\n",
    "            for train_input, train_label in tqdm(train_dataloader):\n",
    "                \n",
    "                # preprocessing\n",
    "                train_label = train_label.to(device)\n",
    "                mask = train_input['attention_mask'].to(device)\n",
    "                input_id = train_input['input_ids'].squeeze(1).to(device)\n",
    "                \n",
    "                # prediction\n",
    "                output = model(input_id, mask)\n",
    "                \n",
    "                batch_loss = criterion(output, train_label.long())\n",
    "                total_loss_train += batch_loss.item()\n",
    "                \n",
    "                # scores\n",
    "                acc = (output.argmax(dim=1) == train_label).sum().item()\n",
    "                total_acc_train += acc\n",
    "                \n",
    "                # actual training\n",
    "                model.zero_grad()\n",
    "                batch_loss.backward()\n",
    "                optimizer.step()\n",
    "                \n",
    "            entry = pd.DataFrame({\"epoch\":[epoch_num],\n",
    "                                  \"loss_func\":[LossFunction.__name__],\n",
    "                                  \"metric\": [LossFunction.__name__],\n",
    "                                  \"label\": [\"train\"],\n",
    "                                  \"score\":[total_loss_train / len(train_data)]})\n",
    "            metric_df = pd.concat([metric_df, entry])\n",
    "            \n",
    "\n",
    "            y_test_prob = np.empty((len(df_val), 3), float)\n",
    "            test_labels = np.zeros((len(df_val)), int)\n",
    "\n",
    "            with torch.no_grad():\n",
    "\n",
    "                    i = 0\n",
    "                    for test_input, test_label in val_dataloader:\n",
    "\n",
    "                        #test_label = test_label.to(device)\n",
    "                        test_labels[i*val_batch_size:(i+1)*val_batch_size] = test_label.cpu()\n",
    "\n",
    "                        mask = test_input['attention_mask'].to(device)\n",
    "                        input_id = test_input['input_ids'].squeeze(1).to(device)\n",
    "\n",
    "                        y_test_prob[i*val_batch_size:(i+1)*val_batch_size] = model(input_id, mask).cpu()\n",
    "\n",
    "                        i+=1\n",
    "\n",
    "            # calculate labels\n",
    "            y_test_true = np.zeros((len(df_val), 3))\n",
    "            y_test_true[np.arange(len(df_val)),test_labels] = 1\n",
    "\n",
    "            test_preds = y_test_prob.argmax(axis=1)\n",
    "            y_test_pred = np.zeros((len(df_val), 3))\n",
    "            y_test_pred[np.arange(len(df_val)),test_preds] = 1\n",
    "            \n",
    "            print(f'Epochs: {epoch_num + 1}')\n",
    "            \n",
    "            \n",
    "            for i, lab in enumerate(labs):\n",
    "                prec, recall, _ = precision_recall_curve(y_test_true[:,i], y_test_prob[:,i])\n",
    "                avg_prec = average_precision_score(y_test_true[:,i], y_test_prob[:,i])\n",
    "                \n",
    "                entry = pd.DataFrame({\"epoch\":[epoch_num],\n",
    "                                      \"loss_func\":[LossFunction.__name__],\n",
    "                                      \"metric\": [\"avg-prc\"],\n",
    "                                      \"label\": [lab],\n",
    "                                      \"score\":[avg_prec]})\n",
    "                metric_df = pd.concat([metric_df, entry])\n",
    "                \n",
    "            print(\"F1 scores:\\n\"+\"-\"*23)\n",
    "            for i, lab in enumerate(labs):\n",
    "                f1 = f1_score(y_test_true[:,i], y_test_pred[:,i], average = \"macro\")\n",
    "                print(f\"{lab:>17}: {f1:.2f}\")\n",
    "                \n",
    "                entry = pd.DataFrame({\"epoch\":[epoch_num],\n",
    "                                      \"loss_func\":[LossFunction.__name__],\n",
    "                                      \"metric\": [\"f1\"],\n",
    "                                      \"label\": [lab],\n",
    "                                      \"score\":[f1]})\n",
    "                metric_df = pd.concat([metric_df, entry])\n",
    "            \n",
    "            # save intermediate dataframe\n",
    "            cwd = os.getcwd()\n",
    "            folder = \"intermediate_metrics\"\n",
    "            file = f\"results4.csv\"\n",
    "            path = \"/\".join( (cwd, folder, file) )\n",
    "            metric_df.to_csv(path)\n",
    "    \n",
    "    return metric_df"
   ]
  },
  {
   "cell_type": "code",
   "execution_count": 15,
   "id": "57a14875",
   "metadata": {},
   "outputs": [
    {
     "name": "stdout",
     "output_type": "stream",
     "text": [
      "training on FocalLoss\n",
      "Using regular CPU for training\n"
     ]
    },
    {
     "data": {
      "application/vnd.jupyter.widget-view+json": {
       "model_id": "7fadbcda483b40cf8daa0d90ccf45816",
       "version_major": 2,
       "version_minor": 0
      },
      "text/plain": [
       "  0%|          | 0/802 [00:00<?, ?it/s]"
      ]
     },
     "metadata": {},
     "output_type": "display_data"
    },
    {
     "name": "stdout",
     "output_type": "stream",
     "text": [
      "Epochs: 1\n",
      "F1 scores:\n",
      "-----------------------\n",
      "         Metapher: 0.59\n",
      "Metaphernkandidat: 0.55\n",
      "             Nein: 0.58\n"
     ]
    },
    {
     "data": {
      "application/vnd.jupyter.widget-view+json": {
       "model_id": "e1e1964eea0b498595ff8ef598c5c9e8",
       "version_major": 2,
       "version_minor": 0
      },
      "text/plain": [
       "  0%|          | 0/802 [00:00<?, ?it/s]"
      ]
     },
     "metadata": {},
     "output_type": "display_data"
    },
    {
     "name": "stdout",
     "output_type": "stream",
     "text": [
      "Epochs: 2\n",
      "F1 scores:\n",
      "-----------------------\n",
      "         Metapher: 0.59\n",
      "Metaphernkandidat: 0.65\n",
      "             Nein: 0.69\n"
     ]
    },
    {
     "data": {
      "application/vnd.jupyter.widget-view+json": {
       "model_id": "4f9e03ed05e0420ebb206f8b3a1d8a36",
       "version_major": 2,
       "version_minor": 0
      },
      "text/plain": [
       "  0%|          | 0/802 [00:00<?, ?it/s]"
      ]
     },
     "metadata": {},
     "output_type": "display_data"
    },
    {
     "name": "stdout",
     "output_type": "stream",
     "text": [
      "Epochs: 3\n",
      "F1 scores:\n",
      "-----------------------\n",
      "         Metapher: 0.57\n",
      "Metaphernkandidat: 0.69\n",
      "             Nein: 0.76\n"
     ]
    },
    {
     "data": {
      "application/vnd.jupyter.widget-view+json": {
       "model_id": "efdd6fa66c7c4797bee3768603728540",
       "version_major": 2,
       "version_minor": 0
      },
      "text/plain": [
       "  0%|          | 0/802 [00:00<?, ?it/s]"
      ]
     },
     "metadata": {},
     "output_type": "display_data"
    },
    {
     "name": "stdout",
     "output_type": "stream",
     "text": [
      "Epochs: 4\n",
      "F1 scores:\n",
      "-----------------------\n",
      "         Metapher: 0.59\n",
      "Metaphernkandidat: 0.73\n",
      "             Nein: 0.79\n"
     ]
    },
    {
     "data": {
      "application/vnd.jupyter.widget-view+json": {
       "model_id": "c0cd5defe6f34a5cb7aeb933f93d93d8",
       "version_major": 2,
       "version_minor": 0
      },
      "text/plain": [
       "  0%|          | 0/802 [00:00<?, ?it/s]"
      ]
     },
     "metadata": {},
     "output_type": "display_data"
    },
    {
     "name": "stdout",
     "output_type": "stream",
     "text": [
      "Epochs: 5\n",
      "F1 scores:\n",
      "-----------------------\n",
      "         Metapher: 0.61\n",
      "Metaphernkandidat: 0.73\n",
      "             Nein: 0.81\n"
     ]
    },
    {
     "data": {
      "application/vnd.jupyter.widget-view+json": {
       "model_id": "dba8baca59ab4e388f904f66b4015ff4",
       "version_major": 2,
       "version_minor": 0
      },
      "text/plain": [
       "  0%|          | 0/802 [00:00<?, ?it/s]"
      ]
     },
     "metadata": {},
     "output_type": "display_data"
    },
    {
     "name": "stdout",
     "output_type": "stream",
     "text": [
      "Epochs: 6\n",
      "F1 scores:\n",
      "-----------------------\n",
      "         Metapher: 0.61\n",
      "Metaphernkandidat: 0.75\n",
      "             Nein: 0.84\n"
     ]
    },
    {
     "data": {
      "application/vnd.jupyter.widget-view+json": {
       "model_id": "1ee38cd905224c1e9e03d3a14aa38ba3",
       "version_major": 2,
       "version_minor": 0
      },
      "text/plain": [
       "  0%|          | 0/802 [00:00<?, ?it/s]"
      ]
     },
     "metadata": {},
     "output_type": "display_data"
    },
    {
     "name": "stdout",
     "output_type": "stream",
     "text": [
      "Epochs: 7\n",
      "F1 scores:\n",
      "-----------------------\n",
      "         Metapher: 0.59\n",
      "Metaphernkandidat: 0.75\n",
      "             Nein: 0.82\n"
     ]
    },
    {
     "data": {
      "application/vnd.jupyter.widget-view+json": {
       "model_id": "c9150622d7504d8da394e0c3b575d87a",
       "version_major": 2,
       "version_minor": 0
      },
      "text/plain": [
       "  0%|          | 0/802 [00:00<?, ?it/s]"
      ]
     },
     "metadata": {},
     "output_type": "display_data"
    },
    {
     "name": "stdout",
     "output_type": "stream",
     "text": [
      "Epochs: 8\n",
      "F1 scores:\n",
      "-----------------------\n",
      "         Metapher: 0.59\n",
      "Metaphernkandidat: 0.76\n",
      "             Nein: 0.84\n"
     ]
    },
    {
     "data": {
      "application/vnd.jupyter.widget-view+json": {
       "model_id": "e6dacb047f5b4342a252a2fdfde7d5c6",
       "version_major": 2,
       "version_minor": 0
      },
      "text/plain": [
       "  0%|          | 0/802 [00:00<?, ?it/s]"
      ]
     },
     "metadata": {},
     "output_type": "display_data"
    },
    {
     "name": "stdout",
     "output_type": "stream",
     "text": [
      "Epochs: 9\n",
      "F1 scores:\n",
      "-----------------------\n",
      "         Metapher: 0.60\n",
      "Metaphernkandidat: 0.76\n",
      "             Nein: 0.84\n"
     ]
    },
    {
     "data": {
      "application/vnd.jupyter.widget-view+json": {
       "model_id": "1ab10ddd8dba4392b7ff59a93e30dfbb",
       "version_major": 2,
       "version_minor": 0
      },
      "text/plain": [
       "  0%|          | 0/802 [00:00<?, ?it/s]"
      ]
     },
     "metadata": {},
     "output_type": "display_data"
    },
    {
     "name": "stdout",
     "output_type": "stream",
     "text": [
      "Epochs: 10\n",
      "F1 scores:\n",
      "-----------------------\n",
      "         Metapher: 0.57\n",
      "Metaphernkandidat: 0.77\n",
      "             Nein: 0.87\n"
     ]
    },
    {
     "data": {
      "application/vnd.jupyter.widget-view+json": {
       "model_id": "8abb17f2123348fcad9345ce5ab75b5d",
       "version_major": 2,
       "version_minor": 0
      },
      "text/plain": [
       "  0%|          | 0/802 [00:00<?, ?it/s]"
      ]
     },
     "metadata": {},
     "output_type": "display_data"
    },
    {
     "name": "stdout",
     "output_type": "stream",
     "text": [
      "Epochs: 11\n",
      "F1 scores:\n",
      "-----------------------\n",
      "         Metapher: 0.60\n",
      "Metaphernkandidat: 0.78\n",
      "             Nein: 0.86\n"
     ]
    },
    {
     "data": {
      "application/vnd.jupyter.widget-view+json": {
       "model_id": "75d24bbc969a4b218551748bc4ce4246",
       "version_major": 2,
       "version_minor": 0
      },
      "text/plain": [
       "  0%|          | 0/802 [00:00<?, ?it/s]"
      ]
     },
     "metadata": {},
     "output_type": "display_data"
    },
    {
     "name": "stdout",
     "output_type": "stream",
     "text": [
      "Epochs: 12\n",
      "F1 scores:\n",
      "-----------------------\n",
      "         Metapher: 0.61\n",
      "Metaphernkandidat: 0.79\n",
      "             Nein: 0.88\n"
     ]
    },
    {
     "data": {
      "application/vnd.jupyter.widget-view+json": {
       "model_id": "baaa5b0570fe4f14a457e565a8cdf7e1",
       "version_major": 2,
       "version_minor": 0
      },
      "text/plain": [
       "  0%|          | 0/802 [00:00<?, ?it/s]"
      ]
     },
     "metadata": {},
     "output_type": "display_data"
    },
    {
     "name": "stdout",
     "output_type": "stream",
     "text": [
      "Epochs: 13\n",
      "F1 scores:\n",
      "-----------------------\n",
      "         Metapher: 0.61\n",
      "Metaphernkandidat: 0.79\n",
      "             Nein: 0.87\n"
     ]
    },
    {
     "data": {
      "application/vnd.jupyter.widget-view+json": {
       "model_id": "735811e65c494c0da31b04f34485f322",
       "version_major": 2,
       "version_minor": 0
      },
      "text/plain": [
       "  0%|          | 0/802 [00:00<?, ?it/s]"
      ]
     },
     "metadata": {},
     "output_type": "display_data"
    },
    {
     "name": "stdout",
     "output_type": "stream",
     "text": [
      "Epochs: 14\n",
      "F1 scores:\n",
      "-----------------------\n",
      "         Metapher: 0.62\n",
      "Metaphernkandidat: 0.80\n",
      "             Nein: 0.88\n"
     ]
    },
    {
     "data": {
      "application/vnd.jupyter.widget-view+json": {
       "model_id": "49aa4ec719b7475688b368745bd32b65",
       "version_major": 2,
       "version_minor": 0
      },
      "text/plain": [
       "  0%|          | 0/802 [00:00<?, ?it/s]"
      ]
     },
     "metadata": {},
     "output_type": "display_data"
    },
    {
     "name": "stdout",
     "output_type": "stream",
     "text": [
      "Epochs: 15\n",
      "F1 scores:\n",
      "-----------------------\n",
      "         Metapher: 0.59\n",
      "Metaphernkandidat: 0.80\n",
      "             Nein: 0.86\n"
     ]
    },
    {
     "data": {
      "application/vnd.jupyter.widget-view+json": {
       "model_id": "93075df81ec2458a86dc9dfd6d1a7809",
       "version_major": 2,
       "version_minor": 0
      },
      "text/plain": [
       "  0%|          | 0/802 [00:00<?, ?it/s]"
      ]
     },
     "metadata": {},
     "output_type": "display_data"
    },
    {
     "name": "stdout",
     "output_type": "stream",
     "text": [
      "Epochs: 16\n",
      "F1 scores:\n",
      "-----------------------\n",
      "         Metapher: 0.63\n",
      "Metaphernkandidat: 0.79\n",
      "             Nein: 0.87\n"
     ]
    },
    {
     "data": {
      "application/vnd.jupyter.widget-view+json": {
       "model_id": "154183666af449799cb8eca4a38b7bd5",
       "version_major": 2,
       "version_minor": 0
      },
      "text/plain": [
       "  0%|          | 0/802 [00:00<?, ?it/s]"
      ]
     },
     "metadata": {},
     "output_type": "display_data"
    },
    {
     "name": "stdout",
     "output_type": "stream",
     "text": [
      "Epochs: 17\n",
      "F1 scores:\n",
      "-----------------------\n",
      "         Metapher: 0.66\n",
      "Metaphernkandidat: 0.81\n",
      "             Nein: 0.88\n"
     ]
    },
    {
     "data": {
      "application/vnd.jupyter.widget-view+json": {
       "model_id": "4de9e6af6dcb4e0eb058af8cf70a1c2f",
       "version_major": 2,
       "version_minor": 0
      },
      "text/plain": [
       "  0%|          | 0/802 [00:00<?, ?it/s]"
      ]
     },
     "metadata": {},
     "output_type": "display_data"
    },
    {
     "name": "stdout",
     "output_type": "stream",
     "text": [
      "Epochs: 18\n",
      "F1 scores:\n",
      "-----------------------\n",
      "         Metapher: 0.82\n",
      "Metaphernkandidat: 0.82\n",
      "             Nein: 0.90\n"
     ]
    },
    {
     "data": {
      "application/vnd.jupyter.widget-view+json": {
       "model_id": "6244313e63a9421eb9b594febeaecf89",
       "version_major": 2,
       "version_minor": 0
      },
      "text/plain": [
       "  0%|          | 0/802 [00:00<?, ?it/s]"
      ]
     },
     "metadata": {},
     "output_type": "display_data"
    },
    {
     "name": "stdout",
     "output_type": "stream",
     "text": [
      "Epochs: 19\n",
      "F1 scores:\n",
      "-----------------------\n",
      "         Metapher: 0.83\n",
      "Metaphernkandidat: 0.83\n",
      "             Nein: 0.91\n"
     ]
    },
    {
     "data": {
      "application/vnd.jupyter.widget-view+json": {
       "model_id": "c5e67b6bd1a84a00b84fa961946403ba",
       "version_major": 2,
       "version_minor": 0
      },
      "text/plain": [
       "  0%|          | 0/802 [00:00<?, ?it/s]"
      ]
     },
     "metadata": {},
     "output_type": "display_data"
    },
    {
     "name": "stdout",
     "output_type": "stream",
     "text": [
      "Epochs: 20\n",
      "F1 scores:\n",
      "-----------------------\n",
      "         Metapher: 0.69\n",
      "Metaphernkandidat: 0.80\n",
      "             Nein: 0.87\n"
     ]
    },
    {
     "data": {
      "application/vnd.jupyter.widget-view+json": {
       "model_id": "dc1e57e9f0ca46aea86351a46525e9a8",
       "version_major": 2,
       "version_minor": 0
      },
      "text/plain": [
       "  0%|          | 0/802 [00:00<?, ?it/s]"
      ]
     },
     "metadata": {},
     "output_type": "display_data"
    },
    {
     "name": "stdout",
     "output_type": "stream",
     "text": [
      "Epochs: 21\n",
      "F1 scores:\n",
      "-----------------------\n",
      "         Metapher: 0.75\n",
      "Metaphernkandidat: 0.80\n",
      "             Nein: 0.88\n"
     ]
    },
    {
     "data": {
      "application/vnd.jupyter.widget-view+json": {
       "model_id": "6dbedf15b46a417188cf21c6b42d6602",
       "version_major": 2,
       "version_minor": 0
      },
      "text/plain": [
       "  0%|          | 0/802 [00:00<?, ?it/s]"
      ]
     },
     "metadata": {},
     "output_type": "display_data"
    },
    {
     "name": "stdout",
     "output_type": "stream",
     "text": [
      "Epochs: 22\n",
      "F1 scores:\n",
      "-----------------------\n",
      "         Metapher: 0.66\n",
      "Metaphernkandidat: 0.78\n",
      "             Nein: 0.87\n"
     ]
    },
    {
     "data": {
      "application/vnd.jupyter.widget-view+json": {
       "model_id": "59dc55a1329947f89a872af0592d8525",
       "version_major": 2,
       "version_minor": 0
      },
      "text/plain": [
       "  0%|          | 0/802 [00:00<?, ?it/s]"
      ]
     },
     "metadata": {},
     "output_type": "display_data"
    },
    {
     "name": "stdout",
     "output_type": "stream",
     "text": [
      "Epochs: 23\n",
      "F1 scores:\n",
      "-----------------------\n",
      "         Metapher: 0.72\n",
      "Metaphernkandidat: 0.78\n",
      "             Nein: 0.87\n"
     ]
    },
    {
     "data": {
      "application/vnd.jupyter.widget-view+json": {
       "model_id": "52ab181c74254a6eabb2470be2d55ee2",
       "version_major": 2,
       "version_minor": 0
      },
      "text/plain": [
       "  0%|          | 0/802 [00:00<?, ?it/s]"
      ]
     },
     "metadata": {},
     "output_type": "display_data"
    },
    {
     "name": "stdout",
     "output_type": "stream",
     "text": [
      "Epochs: 24\n",
      "F1 scores:\n",
      "-----------------------\n",
      "         Metapher: 0.71\n",
      "Metaphernkandidat: 0.81\n",
      "             Nein: 0.87\n"
     ]
    },
    {
     "data": {
      "application/vnd.jupyter.widget-view+json": {
       "model_id": "c497c8dfc552452cbdb9e768eed6dd3e",
       "version_major": 2,
       "version_minor": 0
      },
      "text/plain": [
       "  0%|          | 0/802 [00:00<?, ?it/s]"
      ]
     },
     "metadata": {},
     "output_type": "display_data"
    },
    {
     "name": "stdout",
     "output_type": "stream",
     "text": [
      "Epochs: 25\n",
      "F1 scores:\n",
      "-----------------------\n",
      "         Metapher: 0.72\n",
      "Metaphernkandidat: 0.78\n",
      "             Nein: 0.87\n"
     ]
    },
    {
     "data": {
      "application/vnd.jupyter.widget-view+json": {
       "model_id": "9e53ef59076740fe9e0105f73231ec6b",
       "version_major": 2,
       "version_minor": 0
      },
      "text/plain": [
       "  0%|          | 0/802 [00:00<?, ?it/s]"
      ]
     },
     "metadata": {},
     "output_type": "display_data"
    },
    {
     "name": "stdout",
     "output_type": "stream",
     "text": [
      "Epochs: 26\n",
      "F1 scores:\n",
      "-----------------------\n",
      "         Metapher: 0.70\n",
      "Metaphernkandidat: 0.78\n",
      "             Nein: 0.87\n"
     ]
    },
    {
     "data": {
      "application/vnd.jupyter.widget-view+json": {
       "model_id": "cc218e0a63514219ba8d86c5846bde78",
       "version_major": 2,
       "version_minor": 0
      },
      "text/plain": [
       "  0%|          | 0/802 [00:00<?, ?it/s]"
      ]
     },
     "metadata": {},
     "output_type": "display_data"
    },
    {
     "name": "stdout",
     "output_type": "stream",
     "text": [
      "Epochs: 27\n",
      "F1 scores:\n",
      "-----------------------\n",
      "         Metapher: 0.72\n",
      "Metaphernkandidat: 0.79\n",
      "             Nein: 0.87\n"
     ]
    },
    {
     "data": {
      "application/vnd.jupyter.widget-view+json": {
       "model_id": "ddf1eda461c4439780f1290fd4764555",
       "version_major": 2,
       "version_minor": 0
      },
      "text/plain": [
       "  0%|          | 0/802 [00:00<?, ?it/s]"
      ]
     },
     "metadata": {},
     "output_type": "display_data"
    },
    {
     "name": "stdout",
     "output_type": "stream",
     "text": [
      "Epochs: 28\n",
      "F1 scores:\n",
      "-----------------------\n",
      "         Metapher: 0.70\n",
      "Metaphernkandidat: 0.78\n",
      "             Nein: 0.87\n"
     ]
    },
    {
     "data": {
      "application/vnd.jupyter.widget-view+json": {
       "model_id": "8a19d15dc87b40a6b6c14d1ea75b4a14",
       "version_major": 2,
       "version_minor": 0
      },
      "text/plain": [
       "  0%|          | 0/802 [00:00<?, ?it/s]"
      ]
     },
     "metadata": {},
     "output_type": "display_data"
    },
    {
     "name": "stdout",
     "output_type": "stream",
     "text": [
      "Epochs: 29\n",
      "F1 scores:\n",
      "-----------------------\n",
      "         Metapher: 0.69\n",
      "Metaphernkandidat: 0.78\n",
      "             Nein: 0.86\n"
     ]
    },
    {
     "data": {
      "application/vnd.jupyter.widget-view+json": {
       "model_id": "bfaf22b5aeda41009cffe2d6ac4c3d29",
       "version_major": 2,
       "version_minor": 0
      },
      "text/plain": [
       "  0%|          | 0/802 [00:00<?, ?it/s]"
      ]
     },
     "metadata": {},
     "output_type": "display_data"
    },
    {
     "name": "stdout",
     "output_type": "stream",
     "text": [
      "Epochs: 30\n",
      "F1 scores:\n",
      "-----------------------\n",
      "         Metapher: 0.72\n",
      "Metaphernkandidat: 0.79\n",
      "             Nein: 0.85\n",
      "--------------------------------------------------------------------------------\n"
     ]
    }
   ],
   "source": [
    "for i, model in enumerate(models):\n",
    "    print(f\"training on {loss_functions[i].__name__}\")\n",
    "    history = train(model, df_train, df_test,\n",
    "                    epochs=30, LossFunction = loss_functions[i])\n",
    "    metric_df = pd.concat([metric_df, history])\n",
    "    print(\"-\"*80)"
   ]
  },
  {
   "cell_type": "code",
   "execution_count": 16,
   "id": "7a8d1fbb",
   "metadata": {},
   "outputs": [],
   "source": [
    "# save training history\n",
    "cwd = os.getcwd()\n",
    "folder = \"intermediate_metrics\"\n",
    "file = f\"results4.csv\"\n",
    "path = \"/\".join( (cwd, folder, file) )\n",
    "metric_df.to_csv(path)"
   ]
  },
  {
   "cell_type": "code",
   "execution_count": 18,
   "id": "37f36d04",
   "metadata": {},
   "outputs": [
    {
     "data": {
      "text/html": [
       "<div>\n",
       "<style scoped>\n",
       "    .dataframe tbody tr th:only-of-type {\n",
       "        vertical-align: middle;\n",
       "    }\n",
       "\n",
       "    .dataframe tbody tr th {\n",
       "        vertical-align: top;\n",
       "    }\n",
       "\n",
       "    .dataframe thead th {\n",
       "        text-align: right;\n",
       "    }\n",
       "</style>\n",
       "<table border=\"1\" class=\"dataframe\">\n",
       "  <thead>\n",
       "    <tr style=\"text-align: right;\">\n",
       "      <th></th>\n",
       "      <th>Unnamed: 0</th>\n",
       "      <th>epoch</th>\n",
       "      <th>loss_func</th>\n",
       "      <th>metric</th>\n",
       "      <th>label</th>\n",
       "      <th>score</th>\n",
       "    </tr>\n",
       "  </thead>\n",
       "  <tbody>\n",
       "    <tr>\n",
       "      <th>0</th>\n",
       "      <td>0</td>\n",
       "      <td>0.0</td>\n",
       "      <td>FocalLoss</td>\n",
       "      <td>FocalLoss</td>\n",
       "      <td>train</td>\n",
       "      <td>0.011553</td>\n",
       "    </tr>\n",
       "    <tr>\n",
       "      <th>1</th>\n",
       "      <td>0</td>\n",
       "      <td>0.0</td>\n",
       "      <td>FocalLoss</td>\n",
       "      <td>avg-prc</td>\n",
       "      <td>Metapher</td>\n",
       "      <td>0.103282</td>\n",
       "    </tr>\n",
       "    <tr>\n",
       "      <th>2</th>\n",
       "      <td>0</td>\n",
       "      <td>0.0</td>\n",
       "      <td>FocalLoss</td>\n",
       "      <td>avg-prc</td>\n",
       "      <td>Metaphernkandidat</td>\n",
       "      <td>0.394328</td>\n",
       "    </tr>\n",
       "    <tr>\n",
       "      <th>3</th>\n",
       "      <td>0</td>\n",
       "      <td>0.0</td>\n",
       "      <td>FocalLoss</td>\n",
       "      <td>avg-prc</td>\n",
       "      <td>Nein</td>\n",
       "      <td>0.665301</td>\n",
       "    </tr>\n",
       "    <tr>\n",
       "      <th>4</th>\n",
       "      <td>0</td>\n",
       "      <td>0.0</td>\n",
       "      <td>FocalLoss</td>\n",
       "      <td>f1</td>\n",
       "      <td>Metapher</td>\n",
       "      <td>0.590707</td>\n",
       "    </tr>\n",
       "    <tr>\n",
       "      <th>...</th>\n",
       "      <td>...</td>\n",
       "      <td>...</td>\n",
       "      <td>...</td>\n",
       "      <td>...</td>\n",
       "      <td>...</td>\n",
       "      <td>...</td>\n",
       "    </tr>\n",
       "    <tr>\n",
       "      <th>205</th>\n",
       "      <td>0</td>\n",
       "      <td>29.0</td>\n",
       "      <td>FocalLoss</td>\n",
       "      <td>avg-prc</td>\n",
       "      <td>Metaphernkandidat</td>\n",
       "      <td>0.794669</td>\n",
       "    </tr>\n",
       "    <tr>\n",
       "      <th>206</th>\n",
       "      <td>0</td>\n",
       "      <td>29.0</td>\n",
       "      <td>FocalLoss</td>\n",
       "      <td>avg-prc</td>\n",
       "      <td>Nein</td>\n",
       "      <td>0.954571</td>\n",
       "    </tr>\n",
       "    <tr>\n",
       "      <th>207</th>\n",
       "      <td>0</td>\n",
       "      <td>29.0</td>\n",
       "      <td>FocalLoss</td>\n",
       "      <td>f1</td>\n",
       "      <td>Metapher</td>\n",
       "      <td>0.715288</td>\n",
       "    </tr>\n",
       "    <tr>\n",
       "      <th>208</th>\n",
       "      <td>0</td>\n",
       "      <td>29.0</td>\n",
       "      <td>FocalLoss</td>\n",
       "      <td>f1</td>\n",
       "      <td>Metaphernkandidat</td>\n",
       "      <td>0.792372</td>\n",
       "    </tr>\n",
       "    <tr>\n",
       "      <th>209</th>\n",
       "      <td>0</td>\n",
       "      <td>29.0</td>\n",
       "      <td>FocalLoss</td>\n",
       "      <td>f1</td>\n",
       "      <td>Nein</td>\n",
       "      <td>0.854940</td>\n",
       "    </tr>\n",
       "  </tbody>\n",
       "</table>\n",
       "<p>210 rows × 6 columns</p>\n",
       "</div>"
      ],
      "text/plain": [
       "     Unnamed: 0  epoch  loss_func     metric              label     score\n",
       "0             0    0.0  FocalLoss  FocalLoss              train  0.011553\n",
       "1             0    0.0  FocalLoss    avg-prc           Metapher  0.103282\n",
       "2             0    0.0  FocalLoss    avg-prc  Metaphernkandidat  0.394328\n",
       "3             0    0.0  FocalLoss    avg-prc               Nein  0.665301\n",
       "4             0    0.0  FocalLoss         f1           Metapher  0.590707\n",
       "..          ...    ...        ...        ...                ...       ...\n",
       "205           0   29.0  FocalLoss    avg-prc  Metaphernkandidat  0.794669\n",
       "206           0   29.0  FocalLoss    avg-prc               Nein  0.954571\n",
       "207           0   29.0  FocalLoss         f1           Metapher  0.715288\n",
       "208           0   29.0  FocalLoss         f1  Metaphernkandidat  0.792372\n",
       "209           0   29.0  FocalLoss         f1               Nein  0.854940\n",
       "\n",
       "[210 rows x 6 columns]"
      ]
     },
     "execution_count": 18,
     "metadata": {},
     "output_type": "execute_result"
    }
   ],
   "source": [
    "# load training history\n",
    "cwd = os.getcwd()\n",
    "folder = \"intermediate_metrics\"\n",
    "file = f\"results4.csv\"\n",
    "path = \"/\".join( (cwd, folder, file) )\n",
    "metric_df = pd.read_csv(path)\n",
    "metric_df"
   ]
  },
  {
   "cell_type": "markdown",
   "id": "2c9ab568",
   "metadata": {},
   "source": [
    "# Plot training progress and results"
   ]
  },
  {
   "cell_type": "code",
   "execution_count": 19,
   "id": "92ff5489",
   "metadata": {},
   "outputs": [
    {
     "data": {
      "image/png": "[encoded data removed]",
      "text/plain": [
       "<Figure size 1152x648 with 1 Axes>"
      ]
     },
     "metadata": {
      "needs_background": "light"
     },
     "output_type": "display_data"
    }
   ],
   "source": [
    "plt.figure(figsize=(16, 9))\n",
    "markers = [\"^\", \"o\", \"s\"]\n",
    "for i, lf in enumerate(metric_df.loss_func.unique()):\n",
    "    for lab in metric_df.label.unique():\n",
    "        data = metric_df[(metric_df.loss_func == lf) & \n",
    "                         (metric_df.label == lab) &\n",
    "                         (metric_df.metric == \"avg-prc\")]\n",
    "        marker = markers[i]\n",
    "        plt.plot(data.epoch+1, data.score, lw = 3,\n",
    "                 marker = marker,\n",
    "                 label = f\"{lab:}\\n{lf[:-4]:}\")\n",
    "        \n",
    "plt.legend(loc = \"center right\")\n",
    "plt.xlabel(\"Epoch\")\n",
    "plt.xlim([0.5, 30.5]);\n",
    "plt.ylabel(\"AVG-PRC score\")\n",
    "plt.ylim([0, 1]);\n",
    "plt.title(\"Average Precision for labels on test set over training epochs by Loss Function\");"
   ]
  },
  {
   "cell_type": "code",
   "execution_count": 40,
   "id": "9d3826a2",
   "metadata": {},
   "outputs": [
    {
     "data": {
      "image/png": "[encoded data removed]",
      "text/plain": [
       "<Figure size 1152x648 with 1 Axes>"
      ]
     },
     "metadata": {
      "needs_background": "light"
     },
     "output_type": "display_data"
    }
   ],
   "source": [
    "plt.figure(figsize=(16, 9))\n",
    "for lf in metric_df.loss_func.unique():\n",
    "    for lab in metric_df.label.unique()[1:]:\n",
    "        data = metric_df[(metric_df.loss_func == lf) & (metric_df.label == lab) & (metric_df.metric == \"f1\")]\n",
    "        plt.plot(data.epoch, data.score, lw = 3, label = f\"{lab}-{lf}\")\n",
    "        \n",
    "plt.legend(loc = \"lower right\")\n",
    "plt.xlabel(\"Epoch\")\n",
    "plt.xlim([-0.1, 30.5]);\n",
    "plt.ylabel(\"F1 score macro\")\n",
    "plt.ylim([0, 1]);\n",
    "plt.title(\"Macro F1-score over training Epochs\");"
   ]
  },
  {
   "cell_type": "markdown",
   "id": "7b28f5cb",
   "metadata": {},
   "source": [
    "# Error analysis - Test Set"
   ]
  },
  {
   "cell_type": "code",
   "execution_count": 21,
   "id": "ae73a5ca",
   "metadata": {},
   "outputs": [
    {
     "name": "stdout",
     "output_type": "stream",
     "text": [
      "Using M1 Chip!\n"
     ]
    }
   ],
   "source": [
    "test = Dataset(df_test)\n",
    "\n",
    "batch_size=5\n",
    "\n",
    "test_dataloader = torch.utils.data.DataLoader(test, batch_size=batch_size)\n",
    "\n",
    "if torch.backends.mps.is_available():\n",
    "    use_device = \"mps\"\n",
    "    print(\"Using M1 Chip!\")\n",
    "\n",
    "elif torch.cuda.is_available():\n",
    "    use_device = \"cuda\"\n",
    "    print(\"Using Graphics Card\")\n",
    "else:\n",
    "    use_device = \"cpu\"\n",
    "    print(\"Using regular CPU\")\n",
    "        \n",
    "device = torch.device(use_device)\n",
    "model = model.to(use_device)\n",
    "\n",
    "\n",
    "\n",
    "y_test_prob = np.empty((len(df_test), 3), float)\n",
    "\n",
    "test_labels = np.zeros((len(df_test)), int)\n",
    "\n",
    "with torch.no_grad():\n",
    "    \n",
    "        i = 0\n",
    "        for test_input, test_label in test_dataloader:\n",
    "            \n",
    "            test_label = test_label.to(device)\n",
    "            test_labels[i*batch_size:(i+1)*batch_size] = test_label.cpu()\n",
    "            \n",
    "            mask = test_input['attention_mask'].to(device)\n",
    "            input_id = test_input['input_ids'].squeeze(1).to(device)\n",
    "            \n",
    "            y_test_prob[i*batch_size:(i+1)*batch_size] = model(input_id, mask).cpu()\n",
    "            \n",
    "            i+=1\n",
    "\n",
    "# calculate labels\n",
    "y_test_true = np.zeros((len(df_test), 3))\n",
    "y_test_true[np.arange(len(df_test)),test_labels] = 1\n",
    "\n",
    "test_preds = y_test_prob.argmax(axis=1)\n",
    "y_test_pred = np.zeros((len(df_test), 3))\n",
    "y_test_pred[np.arange(len(df_test)),test_preds] = 1"
   ]
  },
  {
   "cell_type": "code",
   "execution_count": 22,
   "id": "e83b0044",
   "metadata": {
    "scrolled": false
   },
   "outputs": [
    {
     "data": {
      "image/png": "[encoded data removed]",
      "text/plain": [
       "<Figure size 936x576 with 1 Axes>"
      ]
     },
     "metadata": {
      "needs_background": "light"
     },
     "output_type": "display_data"
    }
   ],
   "source": [
    "from sklearn.metrics import precision_recall_curve, average_precision_score, f1_score\n",
    "from sklearn.metrics import PrecisionRecallDisplay\n",
    "\n",
    "fig, ax = plt.subplots(figsize=(13, 8))\n",
    "for i in range(3):\n",
    "    prec, recall, _ = precision_recall_curve(y_test_true[:,i], y_test_prob[:,i])\n",
    "    avg_prec = average_precision_score(y_test_true[:,i], y_test_prob[:,i])\n",
    "    label = f\"{labs[i]}:  {avg_prec:.3f}\"\n",
    "    pr_display = PrecisionRecallDisplay(precision=prec, recall=recall).plot(ax=ax,label=label)\n",
    "    \n",
    "plt.title(\"Average Precision Curve after training on Focal Loss\");"
   ]
  },
  {
   "cell_type": "code",
   "execution_count": 23,
   "id": "92e9bed2",
   "metadata": {},
   "outputs": [
    {
     "data": {
      "text/html": [
       "<div>\n",
       "<style scoped>\n",
       "    .dataframe tbody tr th:only-of-type {\n",
       "        vertical-align: middle;\n",
       "    }\n",
       "\n",
       "    .dataframe tbody tr th {\n",
       "        vertical-align: top;\n",
       "    }\n",
       "\n",
       "    .dataframe thead th {\n",
       "        text-align: right;\n",
       "    }\n",
       "</style>\n",
       "<table border=\"1\" class=\"dataframe\">\n",
       "  <thead>\n",
       "    <tr style=\"text-align: right;\">\n",
       "      <th>pred label</th>\n",
       "      <th>Metapher</th>\n",
       "      <th>Metaphernkandidat</th>\n",
       "      <th>Nein</th>\n",
       "    </tr>\n",
       "    <tr>\n",
       "      <th>true label</th>\n",
       "      <th></th>\n",
       "      <th></th>\n",
       "      <th></th>\n",
       "    </tr>\n",
       "  </thead>\n",
       "  <tbody>\n",
       "    <tr>\n",
       "      <th>Metapher</th>\n",
       "      <td>31</td>\n",
       "      <td>31</td>\n",
       "      <td>8</td>\n",
       "    </tr>\n",
       "    <tr>\n",
       "      <th>Metaphernkandidat</th>\n",
       "      <td>24</td>\n",
       "      <td>182</td>\n",
       "      <td>59</td>\n",
       "    </tr>\n",
       "    <tr>\n",
       "      <th>Nein</th>\n",
       "      <td>0</td>\n",
       "      <td>19</td>\n",
       "      <td>391</td>\n",
       "    </tr>\n",
       "  </tbody>\n",
       "</table>\n",
       "</div>"
      ],
      "text/plain": [
       "pred label         Metapher  Metaphernkandidat  Nein\n",
       "true label                                          \n",
       "Metapher                 31                 31     8\n",
       "Metaphernkandidat        24                182    59\n",
       "Nein                      0                 19   391"
      ]
     },
     "execution_count": 23,
     "metadata": {},
     "output_type": "execute_result"
    }
   ],
   "source": [
    "confusion_matrix = pd.crosstab(y_test_true.argmax(axis=1), y_test_prob.argmax(axis=1))\n",
    "confusion_matrix.index = labs\n",
    "confusion_matrix.columns = labs\n",
    "confusion_matrix.columns.name = \"pred label\"\n",
    "confusion_matrix.index.name = \"true label\"\n",
    "confusion_matrix"
   ]
  },
  {
   "cell_type": "code",
   "execution_count": 27,
   "id": "18d207be",
   "metadata": {},
   "outputs": [
    {
     "name": "stdout",
     "output_type": "stream",
     "text": [
      "F1 scores:\n",
      "-----------------------\n",
      "         Metapher: 0.72\n",
      "Metaphernkandidat: 0.80\n",
      "             Nein: 0.88\n"
     ]
    }
   ],
   "source": [
    "from sklearn.metrics import f1_score\n",
    "\n",
    "f1s_all = []\n",
    "\n",
    "print(\"F1 scores:\\n\"+\"-\"*23)\n",
    "for i, lab in enumerate(labs):\n",
    "    f1 = f1_score(y_test_true[:,i], y_test_pred[:,i], average = \"macro\")\n",
    "    f1s_all.append(f1)\n",
    "    print(f\"{lab:>17}: {f1:.2f}\")"
   ]
  },
  {
   "cell_type": "markdown",
   "id": "3d23f0d4",
   "metadata": {},
   "source": [
    "## Metrics for original german Textstellen:"
   ]
  },
  {
   "cell_type": "code",
   "execution_count": 28,
   "id": "b0696e6c",
   "metadata": {},
   "outputs": [],
   "source": [
    "idx = df_test.lang == \"de\""
   ]
  },
  {
   "cell_type": "code",
   "execution_count": 29,
   "id": "6349ae38",
   "metadata": {},
   "outputs": [
    {
     "data": {
      "text/html": [
       "<div>\n",
       "<style scoped>\n",
       "    .dataframe tbody tr th:only-of-type {\n",
       "        vertical-align: middle;\n",
       "    }\n",
       "\n",
       "    .dataframe tbody tr th {\n",
       "        vertical-align: top;\n",
       "    }\n",
       "\n",
       "    .dataframe thead th {\n",
       "        text-align: right;\n",
       "    }\n",
       "</style>\n",
       "<table border=\"1\" class=\"dataframe\">\n",
       "  <thead>\n",
       "    <tr style=\"text-align: right;\">\n",
       "      <th>pred label</th>\n",
       "      <th>Metapher</th>\n",
       "      <th>Metaphernkandidat</th>\n",
       "      <th>Nein</th>\n",
       "    </tr>\n",
       "    <tr>\n",
       "      <th>true label</th>\n",
       "      <th></th>\n",
       "      <th></th>\n",
       "      <th></th>\n",
       "    </tr>\n",
       "  </thead>\n",
       "  <tbody>\n",
       "    <tr>\n",
       "      <th>Metapher</th>\n",
       "      <td>5</td>\n",
       "      <td>6</td>\n",
       "      <td>3</td>\n",
       "    </tr>\n",
       "    <tr>\n",
       "      <th>Metaphernkandidat</th>\n",
       "      <td>4</td>\n",
       "      <td>26</td>\n",
       "      <td>23</td>\n",
       "    </tr>\n",
       "    <tr>\n",
       "      <th>Nein</th>\n",
       "      <td>0</td>\n",
       "      <td>19</td>\n",
       "      <td>391</td>\n",
       "    </tr>\n",
       "  </tbody>\n",
       "</table>\n",
       "</div>"
      ],
      "text/plain": [
       "pred label         Metapher  Metaphernkandidat  Nein\n",
       "true label                                          \n",
       "Metapher                  5                  6     3\n",
       "Metaphernkandidat         4                 26    23\n",
       "Nein                      0                 19   391"
      ]
     },
     "execution_count": 29,
     "metadata": {},
     "output_type": "execute_result"
    }
   ],
   "source": [
    "confusion_matrix = pd.crosstab(y_test_true[idx,:].argmax(axis=1), y_test_prob[idx,:].argmax(axis=1))\n",
    "confusion_matrix.index = labs\n",
    "confusion_matrix.columns = labs\n",
    "confusion_matrix.columns.name = \"pred label\"\n",
    "confusion_matrix.index.name = \"true label\"\n",
    "confusion_matrix"
   ]
  },
  {
   "cell_type": "code",
   "execution_count": 31,
   "id": "52c058d7",
   "metadata": {},
   "outputs": [
    {
     "name": "stdout",
     "output_type": "stream",
     "text": [
      "F1 scores for original german Textstellen:\n",
      "-----------------------\n",
      "         Metapher: 0.71\n",
      "Metaphernkandidat: 0.72\n",
      "             Nein: 0.80\n"
     ]
    }
   ],
   "source": [
    "print(\"F1 scores for original german Textstellen:\\n\"+\"-\"*23)\n",
    "\n",
    "f1s_de = []\n",
    "\n",
    "for i, lab in enumerate(labs):\n",
    "    f1 = f1_score(y_test_true[idx,i], y_test_pred[idx,i], average = \"macro\")\n",
    "    f1s_de.append(f1)\n",
    "    print(f\"{lab:>17}: {f1:.2f}\")"
   ]
  },
  {
   "cell_type": "code",
   "execution_count": 35,
   "id": "1858017f",
   "metadata": {},
   "outputs": [
    {
     "data": {
      "image/png": "[encoded data removed]",
      "text/plain": [
       "<Figure size 1152x648 with 1 Axes>"
      ]
     },
     "metadata": {
      "needs_background": "light"
     },
     "output_type": "display_data"
    }
   ],
   "source": [
    "f1s = pd.DataFrame({\"F1-macro\": f1s_all + f1s_de,\n",
    "                    \"label\": labs + labs,\n",
    "                    \"subset\": [\"all\"]*3 + [\"de\"]*3})\n",
    "\n",
    "plt.figure(figsize = (16, 9))\n",
    "sns.barplot(y = \"F1-macro\", hue = \"label\", x =\"subset\", data = f1s);\n",
    "plt.legend(loc = \"lower left\");"
   ]
  },
  {
   "cell_type": "markdown",
   "id": "02c69848",
   "metadata": {},
   "source": [
    "# Model used:"
   ]
  },
  {
   "cell_type": "code",
   "execution_count": 38,
   "id": "a06bff5d",
   "metadata": {
    "scrolled": false
   },
   "outputs": [
    {
     "data": {
      "text/plain": [
       "BertClassifier(\n",
       "  (bert): BertModel(\n",
       "    (embeddings): BertEmbeddings(\n",
       "      (word_embeddings): Embedding(30000, 768, padding_idx=0)\n",
       "      (position_embeddings): Embedding(512, 768)\n",
       "      (token_type_embeddings): Embedding(2, 768)\n",
       "      (LayerNorm): LayerNorm((768,), eps=1e-12, elementwise_affine=True)\n",
       "      (dropout): Dropout(p=0.1, inplace=False)\n",
       "    )\n",
       "    (encoder): BertEncoder(\n",
       "      (layer): ModuleList(\n",
       "        (0): BertLayer(\n",
       "          (attention): BertAttention(\n",
       "            (self): BertSelfAttention(\n",
       "              (query): Linear(in_features=768, out_features=768, bias=True)\n",
       "              (key): Linear(in_features=768, out_features=768, bias=True)\n",
       "              (value): Linear(in_features=768, out_features=768, bias=True)\n",
       "              (dropout): Dropout(p=0.1, inplace=False)\n",
       "            )\n",
       "            (output): BertSelfOutput(\n",
       "              (dense): Linear(in_features=768, out_features=768, bias=True)\n",
       "              (LayerNorm): LayerNorm((768,), eps=1e-12, elementwise_affine=True)\n",
       "              (dropout): Dropout(p=0.1, inplace=False)\n",
       "            )\n",
       "          )\n",
       "          (intermediate): BertIntermediate(\n",
       "            (dense): Linear(in_features=768, out_features=3072, bias=True)\n",
       "            (intermediate_act_fn): GELUActivation()\n",
       "          )\n",
       "          (output): BertOutput(\n",
       "            (dense): Linear(in_features=3072, out_features=768, bias=True)\n",
       "            (LayerNorm): LayerNorm((768,), eps=1e-12, elementwise_affine=True)\n",
       "            (dropout): Dropout(p=0.1, inplace=False)\n",
       "          )\n",
       "        )\n",
       "        (1): BertLayer(\n",
       "          (attention): BertAttention(\n",
       "            (self): BertSelfAttention(\n",
       "              (query): Linear(in_features=768, out_features=768, bias=True)\n",
       "              (key): Linear(in_features=768, out_features=768, bias=True)\n",
       "              (value): Linear(in_features=768, out_features=768, bias=True)\n",
       "              (dropout): Dropout(p=0.1, inplace=False)\n",
       "            )\n",
       "            (output): BertSelfOutput(\n",
       "              (dense): Linear(in_features=768, out_features=768, bias=True)\n",
       "              (LayerNorm): LayerNorm((768,), eps=1e-12, elementwise_affine=True)\n",
       "              (dropout): Dropout(p=0.1, inplace=False)\n",
       "            )\n",
       "          )\n",
       "          (intermediate): BertIntermediate(\n",
       "            (dense): Linear(in_features=768, out_features=3072, bias=True)\n",
       "            (intermediate_act_fn): GELUActivation()\n",
       "          )\n",
       "          (output): BertOutput(\n",
       "            (dense): Linear(in_features=3072, out_features=768, bias=True)\n",
       "            (LayerNorm): LayerNorm((768,), eps=1e-12, elementwise_affine=True)\n",
       "            (dropout): Dropout(p=0.1, inplace=False)\n",
       "          )\n",
       "        )\n",
       "        (2): BertLayer(\n",
       "          (attention): BertAttention(\n",
       "            (self): BertSelfAttention(\n",
       "              (query): Linear(in_features=768, out_features=768, bias=True)\n",
       "              (key): Linear(in_features=768, out_features=768, bias=True)\n",
       "              (value): Linear(in_features=768, out_features=768, bias=True)\n",
       "              (dropout): Dropout(p=0.1, inplace=False)\n",
       "            )\n",
       "            (output): BertSelfOutput(\n",
       "              (dense): Linear(in_features=768, out_features=768, bias=True)\n",
       "              (LayerNorm): LayerNorm((768,), eps=1e-12, elementwise_affine=True)\n",
       "              (dropout): Dropout(p=0.1, inplace=False)\n",
       "            )\n",
       "          )\n",
       "          (intermediate): BertIntermediate(\n",
       "            (dense): Linear(in_features=768, out_features=3072, bias=True)\n",
       "            (intermediate_act_fn): GELUActivation()\n",
       "          )\n",
       "          (output): BertOutput(\n",
       "            (dense): Linear(in_features=3072, out_features=768, bias=True)\n",
       "            (LayerNorm): LayerNorm((768,), eps=1e-12, elementwise_affine=True)\n",
       "            (dropout): Dropout(p=0.1, inplace=False)\n",
       "          )\n",
       "        )\n",
       "        (3): BertLayer(\n",
       "          (attention): BertAttention(\n",
       "            (self): BertSelfAttention(\n",
       "              (query): Linear(in_features=768, out_features=768, bias=True)\n",
       "              (key): Linear(in_features=768, out_features=768, bias=True)\n",
       "              (value): Linear(in_features=768, out_features=768, bias=True)\n",
       "              (dropout): Dropout(p=0.1, inplace=False)\n",
       "            )\n",
       "            (output): BertSelfOutput(\n",
       "              (dense): Linear(in_features=768, out_features=768, bias=True)\n",
       "              (LayerNorm): LayerNorm((768,), eps=1e-12, elementwise_affine=True)\n",
       "              (dropout): Dropout(p=0.1, inplace=False)\n",
       "            )\n",
       "          )\n",
       "          (intermediate): BertIntermediate(\n",
       "            (dense): Linear(in_features=768, out_features=3072, bias=True)\n",
       "            (intermediate_act_fn): GELUActivation()\n",
       "          )\n",
       "          (output): BertOutput(\n",
       "            (dense): Linear(in_features=3072, out_features=768, bias=True)\n",
       "            (LayerNorm): LayerNorm((768,), eps=1e-12, elementwise_affine=True)\n",
       "            (dropout): Dropout(p=0.1, inplace=False)\n",
       "          )\n",
       "        )\n",
       "        (4): BertLayer(\n",
       "          (attention): BertAttention(\n",
       "            (self): BertSelfAttention(\n",
       "              (query): Linear(in_features=768, out_features=768, bias=True)\n",
       "              (key): Linear(in_features=768, out_features=768, bias=True)\n",
       "              (value): Linear(in_features=768, out_features=768, bias=True)\n",
       "              (dropout): Dropout(p=0.1, inplace=False)\n",
       "            )\n",
       "            (output): BertSelfOutput(\n",
       "              (dense): Linear(in_features=768, out_features=768, bias=True)\n",
       "              (LayerNorm): LayerNorm((768,), eps=1e-12, elementwise_affine=True)\n",
       "              (dropout): Dropout(p=0.1, inplace=False)\n",
       "            )\n",
       "          )\n",
       "          (intermediate): BertIntermediate(\n",
       "            (dense): Linear(in_features=768, out_features=3072, bias=True)\n",
       "            (intermediate_act_fn): GELUActivation()\n",
       "          )\n",
       "          (output): BertOutput(\n",
       "            (dense): Linear(in_features=3072, out_features=768, bias=True)\n",
       "            (LayerNorm): LayerNorm((768,), eps=1e-12, elementwise_affine=True)\n",
       "            (dropout): Dropout(p=0.1, inplace=False)\n",
       "          )\n",
       "        )\n",
       "        (5): BertLayer(\n",
       "          (attention): BertAttention(\n",
       "            (self): BertSelfAttention(\n",
       "              (query): Linear(in_features=768, out_features=768, bias=True)\n",
       "              (key): Linear(in_features=768, out_features=768, bias=True)\n",
       "              (value): Linear(in_features=768, out_features=768, bias=True)\n",
       "              (dropout): Dropout(p=0.1, inplace=False)\n",
       "            )\n",
       "            (output): BertSelfOutput(\n",
       "              (dense): Linear(in_features=768, out_features=768, bias=True)\n",
       "              (LayerNorm): LayerNorm((768,), eps=1e-12, elementwise_affine=True)\n",
       "              (dropout): Dropout(p=0.1, inplace=False)\n",
       "            )\n",
       "          )\n",
       "          (intermediate): BertIntermediate(\n",
       "            (dense): Linear(in_features=768, out_features=3072, bias=True)\n",
       "            (intermediate_act_fn): GELUActivation()\n",
       "          )\n",
       "          (output): BertOutput(\n",
       "            (dense): Linear(in_features=3072, out_features=768, bias=True)\n",
       "            (LayerNorm): LayerNorm((768,), eps=1e-12, elementwise_affine=True)\n",
       "            (dropout): Dropout(p=0.1, inplace=False)\n",
       "          )\n",
       "        )\n",
       "        (6): BertLayer(\n",
       "          (attention): BertAttention(\n",
       "            (self): BertSelfAttention(\n",
       "              (query): Linear(in_features=768, out_features=768, bias=True)\n",
       "              (key): Linear(in_features=768, out_features=768, bias=True)\n",
       "              (value): Linear(in_features=768, out_features=768, bias=True)\n",
       "              (dropout): Dropout(p=0.1, inplace=False)\n",
       "            )\n",
       "            (output): BertSelfOutput(\n",
       "              (dense): Linear(in_features=768, out_features=768, bias=True)\n",
       "              (LayerNorm): LayerNorm((768,), eps=1e-12, elementwise_affine=True)\n",
       "              (dropout): Dropout(p=0.1, inplace=False)\n",
       "            )\n",
       "          )\n",
       "          (intermediate): BertIntermediate(\n",
       "            (dense): Linear(in_features=768, out_features=3072, bias=True)\n",
       "            (intermediate_act_fn): GELUActivation()\n",
       "          )\n",
       "          (output): BertOutput(\n",
       "            (dense): Linear(in_features=3072, out_features=768, bias=True)\n",
       "            (LayerNorm): LayerNorm((768,), eps=1e-12, elementwise_affine=True)\n",
       "            (dropout): Dropout(p=0.1, inplace=False)\n",
       "          )\n",
       "        )\n",
       "        (7): BertLayer(\n",
       "          (attention): BertAttention(\n",
       "            (self): BertSelfAttention(\n",
       "              (query): Linear(in_features=768, out_features=768, bias=True)\n",
       "              (key): Linear(in_features=768, out_features=768, bias=True)\n",
       "              (value): Linear(in_features=768, out_features=768, bias=True)\n",
       "              (dropout): Dropout(p=0.1, inplace=False)\n",
       "            )\n",
       "            (output): BertSelfOutput(\n",
       "              (dense): Linear(in_features=768, out_features=768, bias=True)\n",
       "              (LayerNorm): LayerNorm((768,), eps=1e-12, elementwise_affine=True)\n",
       "              (dropout): Dropout(p=0.1, inplace=False)\n",
       "            )\n",
       "          )\n",
       "          (intermediate): BertIntermediate(\n",
       "            (dense): Linear(in_features=768, out_features=3072, bias=True)\n",
       "            (intermediate_act_fn): GELUActivation()\n",
       "          )\n",
       "          (output): BertOutput(\n",
       "            (dense): Linear(in_features=3072, out_features=768, bias=True)\n",
       "            (LayerNorm): LayerNorm((768,), eps=1e-12, elementwise_affine=True)\n",
       "            (dropout): Dropout(p=0.1, inplace=False)\n",
       "          )\n",
       "        )\n",
       "        (8): BertLayer(\n",
       "          (attention): BertAttention(\n",
       "            (self): BertSelfAttention(\n",
       "              (query): Linear(in_features=768, out_features=768, bias=True)\n",
       "              (key): Linear(in_features=768, out_features=768, bias=True)\n",
       "              (value): Linear(in_features=768, out_features=768, bias=True)\n",
       "              (dropout): Dropout(p=0.1, inplace=False)\n",
       "            )\n",
       "            (output): BertSelfOutput(\n",
       "              (dense): Linear(in_features=768, out_features=768, bias=True)\n",
       "              (LayerNorm): LayerNorm((768,), eps=1e-12, elementwise_affine=True)\n",
       "              (dropout): Dropout(p=0.1, inplace=False)\n",
       "            )\n",
       "          )\n",
       "          (intermediate): BertIntermediate(\n",
       "            (dense): Linear(in_features=768, out_features=3072, bias=True)\n",
       "            (intermediate_act_fn): GELUActivation()\n",
       "          )\n",
       "          (output): BertOutput(\n",
       "            (dense): Linear(in_features=3072, out_features=768, bias=True)\n",
       "            (LayerNorm): LayerNorm((768,), eps=1e-12, elementwise_affine=True)\n",
       "            (dropout): Dropout(p=0.1, inplace=False)\n",
       "          )\n",
       "        )\n",
       "        (9): BertLayer(\n",
       "          (attention): BertAttention(\n",
       "            (self): BertSelfAttention(\n",
       "              (query): Linear(in_features=768, out_features=768, bias=True)\n",
       "              (key): Linear(in_features=768, out_features=768, bias=True)\n",
       "              (value): Linear(in_features=768, out_features=768, bias=True)\n",
       "              (dropout): Dropout(p=0.1, inplace=False)\n",
       "            )\n",
       "            (output): BertSelfOutput(\n",
       "              (dense): Linear(in_features=768, out_features=768, bias=True)\n",
       "              (LayerNorm): LayerNorm((768,), eps=1e-12, elementwise_affine=True)\n",
       "              (dropout): Dropout(p=0.1, inplace=False)\n",
       "            )\n",
       "          )\n",
       "          (intermediate): BertIntermediate(\n",
       "            (dense): Linear(in_features=768, out_features=3072, bias=True)\n",
       "            (intermediate_act_fn): GELUActivation()\n",
       "          )\n",
       "          (output): BertOutput(\n",
       "            (dense): Linear(in_features=3072, out_features=768, bias=True)\n",
       "            (LayerNorm): LayerNorm((768,), eps=1e-12, elementwise_affine=True)\n",
       "            (dropout): Dropout(p=0.1, inplace=False)\n",
       "          )\n",
       "        )\n",
       "        (10): BertLayer(\n",
       "          (attention): BertAttention(\n",
       "            (self): BertSelfAttention(\n",
       "              (query): Linear(in_features=768, out_features=768, bias=True)\n",
       "              (key): Linear(in_features=768, out_features=768, bias=True)\n",
       "              (value): Linear(in_features=768, out_features=768, bias=True)\n",
       "              (dropout): Dropout(p=0.1, inplace=False)\n",
       "            )\n",
       "            (output): BertSelfOutput(\n",
       "              (dense): Linear(in_features=768, out_features=768, bias=True)\n",
       "              (LayerNorm): LayerNorm((768,), eps=1e-12, elementwise_affine=True)\n",
       "              (dropout): Dropout(p=0.1, inplace=False)\n",
       "            )\n",
       "          )\n",
       "          (intermediate): BertIntermediate(\n",
       "            (dense): Linear(in_features=768, out_features=3072, bias=True)\n",
       "            (intermediate_act_fn): GELUActivation()\n",
       "          )\n",
       "          (output): BertOutput(\n",
       "            (dense): Linear(in_features=3072, out_features=768, bias=True)\n",
       "            (LayerNorm): LayerNorm((768,), eps=1e-12, elementwise_affine=True)\n",
       "            (dropout): Dropout(p=0.1, inplace=False)\n",
       "          )\n",
       "        )\n",
       "        (11): BertLayer(\n",
       "          (attention): BertAttention(\n",
       "            (self): BertSelfAttention(\n",
       "              (query): Linear(in_features=768, out_features=768, bias=True)\n",
       "              (key): Linear(in_features=768, out_features=768, bias=True)\n",
       "              (value): Linear(in_features=768, out_features=768, bias=True)\n",
       "              (dropout): Dropout(p=0.1, inplace=False)\n",
       "            )\n",
       "            (output): BertSelfOutput(\n",
       "              (dense): Linear(in_features=768, out_features=768, bias=True)\n",
       "              (LayerNorm): LayerNorm((768,), eps=1e-12, elementwise_affine=True)\n",
       "              (dropout): Dropout(p=0.1, inplace=False)\n",
       "            )\n",
       "          )\n",
       "          (intermediate): BertIntermediate(\n",
       "            (dense): Linear(in_features=768, out_features=3072, bias=True)\n",
       "            (intermediate_act_fn): GELUActivation()\n",
       "          )\n",
       "          (output): BertOutput(\n",
       "            (dense): Linear(in_features=3072, out_features=768, bias=True)\n",
       "            (LayerNorm): LayerNorm((768,), eps=1e-12, elementwise_affine=True)\n",
       "            (dropout): Dropout(p=0.1, inplace=False)\n",
       "          )\n",
       "        )\n",
       "      )\n",
       "    )\n",
       "    (pooler): BertPooler(\n",
       "      (dense): Linear(in_features=768, out_features=768, bias=True)\n",
       "      (activation): Tanh()\n",
       "    )\n",
       "  )\n",
       "  (dropout1): Dropout(p=0.5, inplace=False)\n",
       "  (linear1): Linear(in_features=768, out_features=768, bias=True)\n",
       "  (activation1): ReLU()\n",
       "  (dropout2): Dropout(p=0.5, inplace=False)\n",
       "  (linear2): Linear(in_features=768, out_features=3, bias=True)\n",
       "  (softmax): Softmax(dim=1)\n",
       ")"
      ]
     },
     "execution_count": 38,
     "metadata": {},
     "output_type": "execute_result"
    }
   ],
   "source": [
    "model"
   ]
  }
 ],
 "metadata": {
  "kernelspec": {
   "display_name": "Python 3 (ipykernel)",
   "language": "python",
   "name": "python3"
  },
  "language_info": {
   "codemirror_mode": {
    "name": "ipython",
    "version": 3
   },
   "file_extension": ".py",
   "mimetype": "text/x-python",
   "name": "python",
   "nbconvert_exporter": "python",
   "pygments_lexer": "ipython3",
   "version": "3.10.5"
  }
 },
 "nbformat": 4,
 "nbformat_minor": 5
}
