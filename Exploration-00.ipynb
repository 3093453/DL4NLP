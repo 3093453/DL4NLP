{
 "cells": [
  {
   "cell_type": "code",
   "execution_count": 1,
   "id": "52aa545d",
   "metadata": {},
   "outputs": [],
   "source": [
    "import numpy as np\n",
    "import pandas as pd\n",
    "import matplotlib.pyplot as plt\n",
    "import seaborn as sns\n",
    "\n",
    "sns.set(context=\"talk\", style=\"darkgrid\")"
   ]
  },
  {
   "cell_type": "markdown",
   "id": "1e36b316",
   "metadata": {},
   "source": [
    "# load the dataframe"
   ]
  },
  {
   "cell_type": "code",
   "execution_count": 2,
   "id": "0db949e6",
   "metadata": {},
   "outputs": [
    {
     "data": {
      "text/html": [
       "<div>\n",
       "<style scoped>\n",
       "    .dataframe tbody tr th:only-of-type {\n",
       "        vertical-align: middle;\n",
       "    }\n",
       "\n",
       "    .dataframe tbody tr th {\n",
       "        vertical-align: top;\n",
       "    }\n",
       "\n",
       "    .dataframe thead th {\n",
       "        text-align: right;\n",
       "    }\n",
       "</style>\n",
       "<table border=\"1\" class=\"dataframe\">\n",
       "  <thead>\n",
       "    <tr style=\"text-align: right;\">\n",
       "      <th></th>\n",
       "      <th>Textstelle</th>\n",
       "      <th>Metapher?</th>\n",
       "      <th>Fokus</th>\n",
       "      <th>Rahmen</th>\n",
       "      <th>Stärkegrad (A, B, C)</th>\n",
       "      <th>Begründung/Kommentar</th>\n",
       "      <th>Annotator</th>\n",
       "    </tr>\n",
       "  </thead>\n",
       "  <tbody>\n",
       "    <tr>\n",
       "      <th>0</th>\n",
       "      <td>Bei Beobachtung solchen moralischen Wertes ka...</td>\n",
       "      <td>Metapher</td>\n",
       "      <td>das Horoskop stellen</td>\n",
       "      <td>einer Nation</td>\n",
       "      <td>B</td>\n",
       "      <td>Horoskop stellen - bezogen auf Nationen ist da...</td>\n",
       "      <td>B</td>\n",
       "    </tr>\n",
       "    <tr>\n",
       "      <th>1</th>\n",
       "      <td>Die Zellen verschmelzen miteinander.</td>\n",
       "      <td>Metaphernkandidat</td>\n",
       "      <td>NaN</td>\n",
       "      <td>NaN</td>\n",
       "      <td>NaN</td>\n",
       "      <td>Fachausdruck</td>\n",
       "      <td>B</td>\n",
       "    </tr>\n",
       "    <tr>\n",
       "      <th>2</th>\n",
       "      <td>Diese wolle die bittere Auslese, ohne die auc...</td>\n",
       "      <td>Metapher</td>\n",
       "      <td>bittere</td>\n",
       "      <td>Auslese</td>\n",
       "      <td>A</td>\n",
       "      <td>Unauffällig, aber doch metaphorisch: Dass eine...</td>\n",
       "      <td>B</td>\n",
       "    </tr>\n",
       "    <tr>\n",
       "      <th>3</th>\n",
       "      <td>Wenn es dem Verfasser gelungen ist, ein gesic...</td>\n",
       "      <td>Metapher</td>\n",
       "      <td>ein gesichertes Fundament und die ersten Pfeil...</td>\n",
       "      <td>die Lösung der hier zur Bearbeitung gestellten...</td>\n",
       "      <td>A</td>\n",
       "      <td>Bruch, Fokus nicht ohne Bedeutungsverlust erse...</td>\n",
       "      <td>B</td>\n",
       "    </tr>\n",
       "    <tr>\n",
       "      <th>4</th>\n",
       "      <td>In Californien ist ebenso die früher dort hei...</td>\n",
       "      <td>Metaphernkandidat</td>\n",
       "      <td>NaN</td>\n",
       "      <td>NaN</td>\n",
       "      <td>NaN</td>\n",
       "      <td>kein Bruch, nur auffälliger Ausdruck, keine Be...</td>\n",
       "      <td>B</td>\n",
       "    </tr>\n",
       "  </tbody>\n",
       "</table>\n",
       "</div>"
      ],
      "text/plain": [
       "                                          Textstelle          Metapher?  \\\n",
       "0   Bei Beobachtung solchen moralischen Wertes ka...           Metapher   \n",
       "1               Die Zellen verschmelzen miteinander.  Metaphernkandidat   \n",
       "2   Diese wolle die bittere Auslese, ohne die auc...           Metapher   \n",
       "3   Wenn es dem Verfasser gelungen ist, ein gesic...           Metapher   \n",
       "4   In Californien ist ebenso die früher dort hei...  Metaphernkandidat   \n",
       "\n",
       "                                               Fokus  \\\n",
       "0                               das Horoskop stellen   \n",
       "1                                                NaN   \n",
       "2                                            bittere   \n",
       "3  ein gesichertes Fundament und die ersten Pfeil...   \n",
       "4                                                NaN   \n",
       "\n",
       "                                              Rahmen Stärkegrad (A, B, C)  \\\n",
       "0                                       einer Nation                    B   \n",
       "1                                                NaN                  NaN   \n",
       "2                                            Auslese                    A   \n",
       "3  die Lösung der hier zur Bearbeitung gestellten...                    A   \n",
       "4                                                NaN                  NaN   \n",
       "\n",
       "                                Begründung/Kommentar Annotator  \n",
       "0  Horoskop stellen - bezogen auf Nationen ist da...         B  \n",
       "1                                       Fachausdruck         B  \n",
       "2  Unauffällig, aber doch metaphorisch: Dass eine...         B  \n",
       "3  Bruch, Fokus nicht ohne Bedeutungsverlust erse...         B  \n",
       "4  kein Bruch, nur auffälliger Ausdruck, keine Be...         B  "
      ]
     },
     "execution_count": 2,
     "metadata": {},
     "output_type": "execute_result"
    }
   ],
   "source": [
    "df = pd.read_csv(\"/Users/fynn/Uni/DL4NLP/data/Annotationen-Stufe-2.txt\", index_col=0)\n",
    "df.drop([\"Seite\", \"Unnamed: 2\",\n",
    "         \"Semantikerweiterung?\",\n",
    "         \"Unersetzlich?\",\n",
    "         \"Unersetzlich?\",\n",
    "         \"sprachlich irregulär?\",\n",
    "         \"pointiert?\"], axis = 1, inplace = True) # 2x Floskel\n",
    "\n",
    "df = df[~df.Textstelle.isnull()]\n",
    "df\n",
    "\n",
    "df.head()"
   ]
  },
  {
   "cell_type": "code",
   "execution_count": 3,
   "id": "645d8a67",
   "metadata": {},
   "outputs": [
    {
     "data": {
      "text/plain": [
       "Metaphernkandidat    1785\n",
       "Metapher              777\n",
       "Unklar                  3\n",
       "Grenzfall               1\n",
       "Name: Metapher?, dtype: int64"
      ]
     },
     "execution_count": 3,
     "metadata": {},
     "output_type": "execute_result"
    }
   ],
   "source": [
    "df[\"Metapher?\"].value_counts()"
   ]
  },
  {
   "cell_type": "code",
   "execution_count": 4,
   "id": "22b759c2",
   "metadata": {},
   "outputs": [
    {
     "data": {
      "text/html": [
       "<div>\n",
       "<style scoped>\n",
       "    .dataframe tbody tr th:only-of-type {\n",
       "        vertical-align: middle;\n",
       "    }\n",
       "\n",
       "    .dataframe tbody tr th {\n",
       "        vertical-align: top;\n",
       "    }\n",
       "\n",
       "    .dataframe thead th {\n",
       "        text-align: right;\n",
       "    }\n",
       "</style>\n",
       "<table border=\"1\" class=\"dataframe\">\n",
       "  <thead>\n",
       "    <tr style=\"text-align: right;\">\n",
       "      <th></th>\n",
       "      <th>Textstelle</th>\n",
       "      <th>Fokus</th>\n",
       "      <th>Rahmen</th>\n",
       "      <th>Stärkegrad (A, B, C)</th>\n",
       "      <th>Begründung/Kommentar</th>\n",
       "      <th>Annotator</th>\n",
       "      <th>Metapher</th>\n",
       "      <th>Kandidat</th>\n",
       "    </tr>\n",
       "  </thead>\n",
       "  <tbody>\n",
       "    <tr>\n",
       "      <th>0</th>\n",
       "      <td>Bei Beobachtung solchen moralischen Wertes ka...</td>\n",
       "      <td>das Horoskop stellen</td>\n",
       "      <td>einer Nation</td>\n",
       "      <td>B</td>\n",
       "      <td>Horoskop stellen - bezogen auf Nationen ist da...</td>\n",
       "      <td>B</td>\n",
       "      <td>1</td>\n",
       "      <td>0</td>\n",
       "    </tr>\n",
       "    <tr>\n",
       "      <th>1</th>\n",
       "      <td>Die Zellen verschmelzen miteinander.</td>\n",
       "      <td>NaN</td>\n",
       "      <td>NaN</td>\n",
       "      <td>NaN</td>\n",
       "      <td>Fachausdruck</td>\n",
       "      <td>B</td>\n",
       "      <td>0</td>\n",
       "      <td>1</td>\n",
       "    </tr>\n",
       "    <tr>\n",
       "      <th>2</th>\n",
       "      <td>Diese wolle die bittere Auslese, ohne die auc...</td>\n",
       "      <td>bittere</td>\n",
       "      <td>Auslese</td>\n",
       "      <td>A</td>\n",
       "      <td>Unauffällig, aber doch metaphorisch: Dass eine...</td>\n",
       "      <td>B</td>\n",
       "      <td>1</td>\n",
       "      <td>0</td>\n",
       "    </tr>\n",
       "    <tr>\n",
       "      <th>3</th>\n",
       "      <td>Wenn es dem Verfasser gelungen ist, ein gesic...</td>\n",
       "      <td>ein gesichertes Fundament und die ersten Pfeil...</td>\n",
       "      <td>die Lösung der hier zur Bearbeitung gestellten...</td>\n",
       "      <td>A</td>\n",
       "      <td>Bruch, Fokus nicht ohne Bedeutungsverlust erse...</td>\n",
       "      <td>B</td>\n",
       "      <td>1</td>\n",
       "      <td>0</td>\n",
       "    </tr>\n",
       "    <tr>\n",
       "      <th>4</th>\n",
       "      <td>In Californien ist ebenso die früher dort hei...</td>\n",
       "      <td>NaN</td>\n",
       "      <td>NaN</td>\n",
       "      <td>NaN</td>\n",
       "      <td>kein Bruch, nur auffälliger Ausdruck, keine Be...</td>\n",
       "      <td>B</td>\n",
       "      <td>0</td>\n",
       "      <td>1</td>\n",
       "    </tr>\n",
       "    <tr>\n",
       "      <th>...</th>\n",
       "      <td>...</td>\n",
       "      <td>...</td>\n",
       "      <td>...</td>\n",
       "      <td>...</td>\n",
       "      <td>...</td>\n",
       "      <td>...</td>\n",
       "      <td>...</td>\n",
       "      <td>...</td>\n",
       "    </tr>\n",
       "    <tr>\n",
       "      <th>2579</th>\n",
       "      <td>In ähnlicher Weise sollen noch mehrere andere ...</td>\n",
       "      <td>NaN</td>\n",
       "      <td>NaN</td>\n",
       "      <td>NaN</td>\n",
       "      <td>NaN</td>\n",
       "      <td>B</td>\n",
       "      <td>0</td>\n",
       "      <td>1</td>\n",
       "    </tr>\n",
       "    <tr>\n",
       "      <th>2580</th>\n",
       "      <td>Die Amerikaner folgern, da sie alle Rohmateria...</td>\n",
       "      <td>einer turmhohen Mauer</td>\n",
       "      <td>Schutzzöllen</td>\n",
       "      <td>A</td>\n",
       "      <td>NaN</td>\n",
       "      <td>B</td>\n",
       "      <td>1</td>\n",
       "      <td>0</td>\n",
       "    </tr>\n",
       "    <tr>\n",
       "      <th>2581</th>\n",
       "      <td>Sie könne bei ihrer jetzigen großen Kraft und ...</td>\n",
       "      <td>mütterlichen Päppelflasche</td>\n",
       "      <td>Sie</td>\n",
       "      <td>B</td>\n",
       "      <td>NaN</td>\n",
       "      <td>B</td>\n",
       "      <td>1</td>\n",
       "      <td>0</td>\n",
       "    </tr>\n",
       "    <tr>\n",
       "      <th>2582</th>\n",
       "      <td>Schwarze Flecken von Habgier, Raubsucht, Unger...</td>\n",
       "      <td>NaN</td>\n",
       "      <td>NaN</td>\n",
       "      <td>NaN</td>\n",
       "      <td>NaN</td>\n",
       "      <td>B</td>\n",
       "      <td>0</td>\n",
       "      <td>1</td>\n",
       "    </tr>\n",
       "    <tr>\n",
       "      <th>2583</th>\n",
       "      <td>Die Organisation, wie das natürlich ist, geht ...</td>\n",
       "      <td>NaN</td>\n",
       "      <td>NaN</td>\n",
       "      <td>NaN</td>\n",
       "      <td>NaN</td>\n",
       "      <td>B</td>\n",
       "      <td>0</td>\n",
       "      <td>1</td>\n",
       "    </tr>\n",
       "  </tbody>\n",
       "</table>\n",
       "<p>2566 rows × 8 columns</p>\n",
       "</div>"
      ],
      "text/plain": [
       "                                             Textstelle  \\\n",
       "0      Bei Beobachtung solchen moralischen Wertes ka...   \n",
       "1                  Die Zellen verschmelzen miteinander.   \n",
       "2      Diese wolle die bittere Auslese, ohne die auc...   \n",
       "3      Wenn es dem Verfasser gelungen ist, ein gesic...   \n",
       "4      In Californien ist ebenso die früher dort hei...   \n",
       "...                                                 ...   \n",
       "2579  In ähnlicher Weise sollen noch mehrere andere ...   \n",
       "2580  Die Amerikaner folgern, da sie alle Rohmateria...   \n",
       "2581  Sie könne bei ihrer jetzigen großen Kraft und ...   \n",
       "2582  Schwarze Flecken von Habgier, Raubsucht, Unger...   \n",
       "2583  Die Organisation, wie das natürlich ist, geht ...   \n",
       "\n",
       "                                                  Fokus  \\\n",
       "0                                  das Horoskop stellen   \n",
       "1                                                   NaN   \n",
       "2                                               bittere   \n",
       "3     ein gesichertes Fundament und die ersten Pfeil...   \n",
       "4                                                   NaN   \n",
       "...                                                 ...   \n",
       "2579                                                NaN   \n",
       "2580                              einer turmhohen Mauer   \n",
       "2581                         mütterlichen Päppelflasche   \n",
       "2582                                                NaN   \n",
       "2583                                                NaN   \n",
       "\n",
       "                                                 Rahmen Stärkegrad (A, B, C)  \\\n",
       "0                                          einer Nation                    B   \n",
       "1                                                   NaN                  NaN   \n",
       "2                                               Auslese                    A   \n",
       "3     die Lösung der hier zur Bearbeitung gestellten...                    A   \n",
       "4                                                   NaN                  NaN   \n",
       "...                                                 ...                  ...   \n",
       "2579                                                NaN                  NaN   \n",
       "2580                                       Schutzzöllen                    A   \n",
       "2581                                                Sie                    B   \n",
       "2582                                                NaN                  NaN   \n",
       "2583                                                NaN                  NaN   \n",
       "\n",
       "                                   Begründung/Kommentar Annotator  Metapher  \\\n",
       "0     Horoskop stellen - bezogen auf Nationen ist da...         B         1   \n",
       "1                                          Fachausdruck         B         0   \n",
       "2     Unauffällig, aber doch metaphorisch: Dass eine...         B         1   \n",
       "3     Bruch, Fokus nicht ohne Bedeutungsverlust erse...         B         1   \n",
       "4     kein Bruch, nur auffälliger Ausdruck, keine Be...         B         0   \n",
       "...                                                 ...       ...       ...   \n",
       "2579                                                NaN         B         0   \n",
       "2580                                                NaN         B         1   \n",
       "2581                                                NaN         B         1   \n",
       "2582                                                NaN         B         0   \n",
       "2583                                                NaN         B         0   \n",
       "\n",
       "      Kandidat  \n",
       "0            0  \n",
       "1            1  \n",
       "2            0  \n",
       "3            0  \n",
       "4            1  \n",
       "...        ...  \n",
       "2579         1  \n",
       "2580         0  \n",
       "2581         0  \n",
       "2582         1  \n",
       "2583         1  \n",
       "\n",
       "[2566 rows x 8 columns]"
      ]
     },
     "execution_count": 4,
     "metadata": {},
     "output_type": "execute_result"
    }
   ],
   "source": [
    "df[\"Metapher\"] = (df[\"Metapher?\"] == \"Metapher\").astype(int)\n",
    "df[\"Kandidat\"] = (df[\"Metapher?\"] == \"Metaphernkandidat\").astype(int)\n",
    "df.drop(\"Metapher?\", axis=1, inplace = True)\n",
    "df"
   ]
  },
  {
   "cell_type": "code",
   "execution_count": 5,
   "id": "e7968149",
   "metadata": {},
   "outputs": [
    {
     "data": {
      "text/html": [
       "<div>\n",
       "<style scoped>\n",
       "    .dataframe tbody tr th:only-of-type {\n",
       "        vertical-align: middle;\n",
       "    }\n",
       "\n",
       "    .dataframe tbody tr th {\n",
       "        vertical-align: top;\n",
       "    }\n",
       "\n",
       "    .dataframe thead th {\n",
       "        text-align: right;\n",
       "    }\n",
       "</style>\n",
       "<table border=\"1\" class=\"dataframe\">\n",
       "  <thead>\n",
       "    <tr style=\"text-align: right;\">\n",
       "      <th></th>\n",
       "      <th>Textstelle</th>\n",
       "      <th>Annotator</th>\n",
       "      <th>Metapher</th>\n",
       "      <th>Kandidat</th>\n",
       "    </tr>\n",
       "  </thead>\n",
       "  <tbody>\n",
       "    <tr>\n",
       "      <th>378</th>\n",
       "      <td>\"Der politische Körper verwendet in beiden Fä...</td>\n",
       "      <td>B</td>\n",
       "      <td>1</td>\n",
       "      <td>0</td>\n",
       "    </tr>\n",
       "    <tr>\n",
       "      <th>958</th>\n",
       "      <td>\"Der politische Körper verwendet in beiden Fä...</td>\n",
       "      <td>K</td>\n",
       "      <td>1</td>\n",
       "      <td>0</td>\n",
       "    </tr>\n",
       "    <tr>\n",
       "      <th>1406</th>\n",
       "      <td>\"Der politische Körper verwendet in beiden Fä...</td>\n",
       "      <td>A</td>\n",
       "      <td>0</td>\n",
       "      <td>1</td>\n",
       "    </tr>\n",
       "  </tbody>\n",
       "</table>\n",
       "</div>"
      ],
      "text/plain": [
       "                                             Textstelle Annotator  Metapher  \\\n",
       "378    \"Der politische Körper verwendet in beiden Fä...         B         1   \n",
       "958    \"Der politische Körper verwendet in beiden Fä...         K         1   \n",
       "1406   \"Der politische Körper verwendet in beiden Fä...         A         0   \n",
       "\n",
       "      Kandidat  \n",
       "378          0  \n",
       "958          0  \n",
       "1406         1  "
      ]
     },
     "execution_count": 5,
     "metadata": {},
     "output_type": "execute_result"
    }
   ],
   "source": [
    "stelle = \"Der politische Körper verwendet in beiden Fällen seine meiste Kraft\"\n",
    "stelle +=\" auf die Zunahme von Zähnen und Krallen.\"\n",
    "clms = [\"Textstelle\", \"Annotator\", \"Metapher\", \"Kandidat\"]\n",
    "df.loc[ [stelle in text for text in df[\"Textstelle\"]], clms]"
   ]
  },
  {
   "cell_type": "code",
   "execution_count": 6,
   "id": "0a3f75a7",
   "metadata": {
    "scrolled": false
   },
   "outputs": [
    {
     "data": {
      "text/html": [
       "<div>\n",
       "<style scoped>\n",
       "    .dataframe tbody tr th:only-of-type {\n",
       "        vertical-align: middle;\n",
       "    }\n",
       "\n",
       "    .dataframe tbody tr th {\n",
       "        vertical-align: top;\n",
       "    }\n",
       "\n",
       "    .dataframe thead th {\n",
       "        text-align: right;\n",
       "    }\n",
       "</style>\n",
       "<table border=\"1\" class=\"dataframe\">\n",
       "  <thead>\n",
       "    <tr style=\"text-align: right;\">\n",
       "      <th></th>\n",
       "      <th>Metapher</th>\n",
       "      <th>Kandidat</th>\n",
       "    </tr>\n",
       "    <tr>\n",
       "      <th>Textstelle</th>\n",
       "      <th></th>\n",
       "      <th></th>\n",
       "    </tr>\n",
       "  </thead>\n",
       "  <tbody>\n",
       "    <tr>\n",
       "      <th>\"Der politische Körper verwendet in beiden Fällen seine meiste Kraft auf die Zunahme von Zähnen und Krallen.\"</th>\n",
       "      <td>2</td>\n",
       "      <td>1</td>\n",
       "    </tr>\n",
       "    <tr>\n",
       "      <th>\"Immer noch wird durch die protestantische Lehre jener Grundirrtum fortgepflanzt, daß es nur auf den Glauben ankomme, und daß aus dem Glauben die Werke notwendig folgen müssen.</th>\n",
       "      <td>0</td>\n",
       "      <td>3</td>\n",
       "    </tr>\n",
       "    <tr>\n",
       "      <th>\"Kein Zweifel\", schreibt Alb. Schaeffle 1), vorausschickend, daß Demokratisierung nicht notwendig Republikanisierung sei, \"die Zukunft gehört der Demokratie, in der alten Welt wie in der neuen\", Und Kidd 2) sagt: \"Die geschichtliche Tatsache unserer Zeit, die alle anderen in den Schatten stellt, ist das Kommen der Demokratie . . . . Die da glauben, durch sie werde statt Ordnung ein Chaos kommen, erfassen die Natur seiner Stärke nicht . . . . und Befürchtungen betreffs der Zukunft der auftretenden Demokratie, die sich auf Vergleiche mit der Vergangenheit gründen, sind unzulässig und wertlos . . . .\" zulässig und wertlos . . . .\"</th>\n",
       "      <td>0</td>\n",
       "      <td>3</td>\n",
       "    </tr>\n",
       "    <tr>\n",
       "      <th>\"Mit je weiterem Blick wir die Stoffwelt zu überschauen lernen, je klarer wir das wirkliche Verhältnis bemessen, in welchem der Mensch und sein Handeln zu dem harmonischen Ganzen steht, umsomehr verzwergt und entkleidet sich unser praktisches Ideal, bis nischen Ganzen steht, umsomehr verzwergt und entkleidet sich unser praktisches Ideal, bis wir die Neigung zu der Frage verspüren, ob ein so vergängliches und bedeutungsloses Ereignis in der allgemeinen Ordnung der Dinge, wie die Schicksale der Menschenrasse es sind, die Sehnsucht und die Gefühle noch befriedigen kann, die groß geworden sind an dem Glauben an das Ewige und Gott.\"</th>\n",
       "      <td>1</td>\n",
       "      <td>2</td>\n",
       "    </tr>\n",
       "    <tr>\n",
       "      <th>\"Solange das Menschengeschlecht seinen Zerstörern größere Bewunderung zollen wird als seinen Wohltätern, muß auch der Durst derung zollen wird als seinen Wohltätern, muß auch der Durst nach Kriegsruhm stets den Fehler der erhabensten Charaktere bilden\",</th>\n",
       "      <td>0</td>\n",
       "      <td>3</td>\n",
       "    </tr>\n",
       "    <tr>\n",
       "      <th>...</th>\n",
       "      <td>...</td>\n",
       "      <td>...</td>\n",
       "    </tr>\n",
       "    <tr>\n",
       "      <th>verlaufs; sie hat Naturforschung in dem von uns beschriebenen Sinn sein wollen, so daß ihr alle menschlichen Zweckvorstellungen, Bestrebungen, geistigen Strömungen nur als unroirlsame Begleiterscheinungen, als unwesentliche Zugaben des Geschichtsverlaufs gegolten haben Für den Materialismus im eigentlichen Sinn dürfen Vorstellungen Bewußtseinsorgane überhaupt, nur aufspritzenden Blasen gleichen, die auf die Richtung des ungehindert dahinbransenden Stroms keinen Einfluß auszuüben vermögen.</th>\n",
       "      <td>0</td>\n",
       "      <td>3</td>\n",
       "    </tr>\n",
       "    <tr>\n",
       "      <th>wenn wir uns ein Prinzip denken und auf Grund dessen staatliche Menschenverhältnisse entwickeln, so  müssen wir auf alle Fälle, wenn die so bestimmten Verhältnisse nicht nach dem Willen des »Gesetzgebers« verstellbare Puppen oder Einwohner der Insel Utopia (= Nirgendsort) betreffen sollen, erst uns klar werden, wie es sich mit der Notwendigkeit der Verhältnisse verhält.</th>\n",
       "      <td>1</td>\n",
       "      <td>2</td>\n",
       "    </tr>\n",
       "    <tr>\n",
       "      <th>wenn wir von dem schlechten Worte »Rechtsphilofophie« absehen, so vergißt man bei jener Annahme, einmal daß eine Philosophie, welche die Prinzipien erst aufstellt und dann erprobt. schwindsüchtig ist und zweitens daß eine »Rechtsphilosophie« nicht Ergründung von Prinzipien, sondern höchstens nur Verwendung derselben für ein allgemeines Weltbild (: Philosophie) ist.</th>\n",
       "      <td>2</td>\n",
       "      <td>1</td>\n",
       "    </tr>\n",
       "    <tr>\n",
       "      <th>»Die Macht, die das Kabinett hat, auf die verschiedenen Motive, welche die Mitglieder des Parlaments leiten, einzuwirken, ist so groß, daß die Majorität mehr und mehr eine Bewilligungsmaschine wird1).</th>\n",
       "      <td>0</td>\n",
       "      <td>2</td>\n",
       "    </tr>\n",
       "    <tr>\n",
       "      <th>Über die Wirkungen der Kreuzung auf die körperliche Konstitution gehen Meinungen der Forscher auseinander.</th>\n",
       "      <td>0</td>\n",
       "      <td>2</td>\n",
       "    </tr>\n",
       "  </tbody>\n",
       "</table>\n",
       "<p>806 rows × 2 columns</p>\n",
       "</div>"
      ],
      "text/plain": [
       "                                                    Metapher  Kandidat\n",
       "Textstelle                                                            \n",
       " \"Der politische Körper verwendet in beiden Fäl...         2         1\n",
       " \"Immer noch wird durch die protestantische Leh...         0         3\n",
       " \"Kein Zweifel\", schreibt Alb. Schaeffle 1), vo...         0         3\n",
       " \"Mit je weiterem Blick wir die Stoffwelt zu üb...         1         2\n",
       " \"Solange das Menschengeschlecht seinen Zerstör...         0         3\n",
       "...                                                      ...       ...\n",
       "verlaufs; sie hat Naturforschung in dem von uns...         0         3\n",
       "wenn wir uns ein Prinzip denken und auf Grund d...         1         2\n",
       "wenn wir von dem schlechten Worte »Rechtsphilof...         2         1\n",
       "»Die Macht, die das Kabinett hat, auf die versc...         0         2\n",
       "Über die Wirkungen der Kreuzung auf die körperl...         0         2\n",
       "\n",
       "[806 rows x 2 columns]"
      ]
     },
     "execution_count": 6,
     "metadata": {},
     "output_type": "execute_result"
    }
   ],
   "source": [
    "data = df.groupby([\"Textstelle\"])[[\"Metapher\", \"Kandidat\"]].sum()\n",
    "data"
   ]
  },
  {
   "cell_type": "code",
   "execution_count": 7,
   "id": "130f67f4",
   "metadata": {},
   "outputs": [
    {
     "data": {
      "text/html": [
       "<div>\n",
       "<style scoped>\n",
       "    .dataframe tbody tr th:only-of-type {\n",
       "        vertical-align: middle;\n",
       "    }\n",
       "\n",
       "    .dataframe tbody tr th {\n",
       "        vertical-align: top;\n",
       "    }\n",
       "\n",
       "    .dataframe thead th {\n",
       "        text-align: right;\n",
       "    }\n",
       "</style>\n",
       "<table border=\"1\" class=\"dataframe\">\n",
       "  <thead>\n",
       "    <tr style=\"text-align: right;\">\n",
       "      <th></th>\n",
       "      <th>Fokus</th>\n",
       "      <th>Rahmen</th>\n",
       "    </tr>\n",
       "    <tr>\n",
       "      <th>Textstelle</th>\n",
       "      <th></th>\n",
       "      <th></th>\n",
       "    </tr>\n",
       "  </thead>\n",
       "  <tbody>\n",
       "    <tr>\n",
       "      <th>\"Der politische Körper verwendet in beiden Fällen seine meiste Kraft auf die Zunahme von Zähnen und Krallen.\"</th>\n",
       "      <td>Zähnen und Krallen</td>\n",
       "      <td>der politische Körper</td>\n",
       "    </tr>\n",
       "    <tr>\n",
       "      <th>\"Immer noch wird durch die protestantische Lehre jener Grundirrtum fortgepflanzt, daß es nur auf den Glauben ankomme, und daß aus dem Glauben die Werke notwendig folgen müssen.</th>\n",
       "      <td>NaN</td>\n",
       "      <td>NaN</td>\n",
       "    </tr>\n",
       "    <tr>\n",
       "      <th>\"Kein Zweifel\", schreibt Alb. Schaeffle 1), vorausschickend, daß Demokratisierung nicht notwendig Republikanisierung sei, \"die Zukunft gehört der Demokratie, in der alten Welt wie in der neuen\", Und Kidd 2) sagt: \"Die geschichtliche Tatsache unserer Zeit, die alle anderen in den Schatten stellt, ist das Kommen der Demokratie . . . . Die da glauben, durch sie werde statt Ordnung ein Chaos kommen, erfassen die Natur seiner Stärke nicht . . . . und Befürchtungen betreffs der Zukunft der auftretenden Demokratie, die sich auf Vergleiche mit der Vergangenheit gründen, sind unzulässig und wertlos . . . .\" zulässig und wertlos . . . .\"</th>\n",
       "      <td>NaN</td>\n",
       "      <td>NaN</td>\n",
       "    </tr>\n",
       "    <tr>\n",
       "      <th>\"Mit je weiterem Blick wir die Stoffwelt zu überschauen lernen, je klarer wir das wirkliche Verhältnis bemessen, in welchem der Mensch und sein Handeln zu dem harmonischen Ganzen steht, umsomehr verzwergt und entkleidet sich unser praktisches Ideal, bis nischen Ganzen steht, umsomehr verzwergt und entkleidet sich unser praktisches Ideal, bis wir die Neigung zu der Frage verspüren, ob ein so vergängliches und bedeutungsloses Ereignis in der allgemeinen Ordnung der Dinge, wie die Schicksale der Menschenrasse es sind, die Sehnsucht und die Gefühle noch befriedigen kann, die groß geworden sind an dem Glauben an das Ewige und Gott.\"</th>\n",
       "      <td>Stoffwelt, verzwergt und entkleidet</td>\n",
       "      <td>unser praktisches Ideal</td>\n",
       "    </tr>\n",
       "    <tr>\n",
       "      <th>\"Solange das Menschengeschlecht seinen Zerstörern größere Bewunderung zollen wird als seinen Wohltätern, muß auch der Durst derung zollen wird als seinen Wohltätern, muß auch der Durst nach Kriegsruhm stets den Fehler der erhabensten Charaktere bilden\",</th>\n",
       "      <td>NaN</td>\n",
       "      <td>NaN</td>\n",
       "    </tr>\n",
       "    <tr>\n",
       "      <th>...</th>\n",
       "      <td>...</td>\n",
       "      <td>...</td>\n",
       "    </tr>\n",
       "    <tr>\n",
       "      <th>verlaufs; sie hat Naturforschung in dem von uns beschriebenen Sinn sein wollen, so daß ihr alle menschlichen Zweckvorstellungen, Bestrebungen, geistigen Strömungen nur als unroirlsame Begleiterscheinungen, als unwesentliche Zugaben des Geschichtsverlaufs gegolten haben Für den Materialismus im eigentlichen Sinn dürfen Vorstellungen Bewußtseinsorgane überhaupt, nur aufspritzenden Blasen gleichen, die auf die Richtung des ungehindert dahinbransenden Stroms keinen Einfluß auszuüben vermögen.</th>\n",
       "      <td>NaN</td>\n",
       "      <td>NaN</td>\n",
       "    </tr>\n",
       "    <tr>\n",
       "      <th>wenn wir uns ein Prinzip denken und auf Grund dessen staatliche Menschenverhältnisse entwickeln, so  müssen wir auf alle Fälle, wenn die so bestimmten Verhältnisse nicht nach dem Willen des »Gesetzgebers« verstellbare Puppen oder Einwohner der Insel Utopia (= Nirgendsort) betreffen sollen, erst uns klar werden, wie es sich mit der Notwendigkeit der Verhältnisse verhält.</th>\n",
       "      <td>verstellbare Puppen</td>\n",
       "      <td>staatliche Menschenverhältnisse</td>\n",
       "    </tr>\n",
       "    <tr>\n",
       "      <th>wenn wir von dem schlechten Worte »Rechtsphilofophie« absehen, so vergißt man bei jener Annahme, einmal daß eine Philosophie, welche die Prinzipien erst aufstellt und dann erprobt. schwindsüchtig ist und zweitens daß eine »Rechtsphilosophie« nicht Ergründung von Prinzipien, sondern höchstens nur Verwendung derselben für ein allgemeines Weltbild (: Philosophie) ist.</th>\n",
       "      <td>schwindsüchtig ist</td>\n",
       "      <td>daß eine Philosophie</td>\n",
       "    </tr>\n",
       "    <tr>\n",
       "      <th>»Die Macht, die das Kabinett hat, auf die verschiedenen Motive, welche die Mitglieder des Parlaments leiten, einzuwirken, ist so groß, daß die Majorität mehr und mehr eine Bewilligungsmaschine wird1).</th>\n",
       "      <td>NaN</td>\n",
       "      <td>NaN</td>\n",
       "    </tr>\n",
       "    <tr>\n",
       "      <th>Über die Wirkungen der Kreuzung auf die körperliche Konstitution gehen Meinungen der Forscher auseinander.</th>\n",
       "      <td>NaN</td>\n",
       "      <td>NaN</td>\n",
       "    </tr>\n",
       "  </tbody>\n",
       "</table>\n",
       "<p>806 rows × 2 columns</p>\n",
       "</div>"
      ],
      "text/plain": [
       "                                                                                  Fokus  \\\n",
       "Textstelle                                                                                \n",
       " \"Der politische Körper verwendet in beiden Fäl...                   Zähnen und Krallen   \n",
       " \"Immer noch wird durch die protestantische Leh...                                  NaN   \n",
       " \"Kein Zweifel\", schreibt Alb. Schaeffle 1), vo...                                  NaN   \n",
       " \"Mit je weiterem Blick wir die Stoffwelt zu üb...  Stoffwelt, verzwergt und entkleidet   \n",
       " \"Solange das Menschengeschlecht seinen Zerstör...                                  NaN   \n",
       "...                                                                                 ...   \n",
       "verlaufs; sie hat Naturforschung in dem von uns...                                  NaN   \n",
       "wenn wir uns ein Prinzip denken und auf Grund d...                  verstellbare Puppen   \n",
       "wenn wir von dem schlechten Worte »Rechtsphilof...                   schwindsüchtig ist   \n",
       "»Die Macht, die das Kabinett hat, auf die versc...                                  NaN   \n",
       "Über die Wirkungen der Kreuzung auf die körperl...                                  NaN   \n",
       "\n",
       "                                                                             Rahmen  \n",
       "Textstelle                                                                           \n",
       " \"Der politische Körper verwendet in beiden Fäl...            der politische Körper  \n",
       " \"Immer noch wird durch die protestantische Leh...                              NaN  \n",
       " \"Kein Zweifel\", schreibt Alb. Schaeffle 1), vo...                              NaN  \n",
       " \"Mit je weiterem Blick wir die Stoffwelt zu üb...          unser praktisches Ideal  \n",
       " \"Solange das Menschengeschlecht seinen Zerstör...                              NaN  \n",
       "...                                                                             ...  \n",
       "verlaufs; sie hat Naturforschung in dem von uns...                              NaN  \n",
       "wenn wir uns ein Prinzip denken und auf Grund d...  staatliche Menschenverhältnisse  \n",
       "wenn wir von dem schlechten Worte »Rechtsphilof...             daß eine Philosophie  \n",
       "»Die Macht, die das Kabinett hat, auf die versc...                              NaN  \n",
       "Über die Wirkungen der Kreuzung auf die körperl...                              NaN  \n",
       "\n",
       "[806 rows x 2 columns]"
      ]
     },
     "execution_count": 7,
     "metadata": {},
     "output_type": "execute_result"
    }
   ],
   "source": [
    "erklärung = df.groupby([\"Textstelle\"])[[\"Fokus\", \"Rahmen\"]].first()\n",
    "erklärung[erklärung.isnull()] = np.nan\n",
    "erklärung"
   ]
  },
  {
   "cell_type": "code",
   "execution_count": 8,
   "id": "a8847e27",
   "metadata": {},
   "outputs": [
    {
     "data": {
      "text/html": [
       "<div>\n",
       "<style scoped>\n",
       "    .dataframe tbody tr th:only-of-type {\n",
       "        vertical-align: middle;\n",
       "    }\n",
       "\n",
       "    .dataframe tbody tr th {\n",
       "        vertical-align: top;\n",
       "    }\n",
       "\n",
       "    .dataframe thead th {\n",
       "        text-align: right;\n",
       "    }\n",
       "</style>\n",
       "<table border=\"1\" class=\"dataframe\">\n",
       "  <thead>\n",
       "    <tr style=\"text-align: right;\">\n",
       "      <th></th>\n",
       "      <th>Metapher</th>\n",
       "      <th>Kandidat</th>\n",
       "      <th>Fokus</th>\n",
       "      <th>Rahmen</th>\n",
       "    </tr>\n",
       "    <tr>\n",
       "      <th>Textstelle</th>\n",
       "      <th></th>\n",
       "      <th></th>\n",
       "      <th></th>\n",
       "      <th></th>\n",
       "    </tr>\n",
       "  </thead>\n",
       "  <tbody>\n",
       "    <tr>\n",
       "      <th>\"Der politische Körper verwendet in beiden Fällen seine meiste Kraft auf die Zunahme von Zähnen und Krallen.\"</th>\n",
       "      <td>2</td>\n",
       "      <td>1</td>\n",
       "      <td>Zähnen und Krallen</td>\n",
       "      <td>der politische Körper</td>\n",
       "    </tr>\n",
       "    <tr>\n",
       "      <th>\"Immer noch wird durch die protestantische Lehre jener Grundirrtum fortgepflanzt, daß es nur auf den Glauben ankomme, und daß aus dem Glauben die Werke notwendig folgen müssen.</th>\n",
       "      <td>0</td>\n",
       "      <td>3</td>\n",
       "      <td>NaN</td>\n",
       "      <td>NaN</td>\n",
       "    </tr>\n",
       "    <tr>\n",
       "      <th>\"Kein Zweifel\", schreibt Alb. Schaeffle 1), vorausschickend, daß Demokratisierung nicht notwendig Republikanisierung sei, \"die Zukunft gehört der Demokratie, in der alten Welt wie in der neuen\", Und Kidd 2) sagt: \"Die geschichtliche Tatsache unserer Zeit, die alle anderen in den Schatten stellt, ist das Kommen der Demokratie . . . . Die da glauben, durch sie werde statt Ordnung ein Chaos kommen, erfassen die Natur seiner Stärke nicht . . . . und Befürchtungen betreffs der Zukunft der auftretenden Demokratie, die sich auf Vergleiche mit der Vergangenheit gründen, sind unzulässig und wertlos . . . .\" zulässig und wertlos . . . .\"</th>\n",
       "      <td>0</td>\n",
       "      <td>3</td>\n",
       "      <td>NaN</td>\n",
       "      <td>NaN</td>\n",
       "    </tr>\n",
       "    <tr>\n",
       "      <th>\"Mit je weiterem Blick wir die Stoffwelt zu überschauen lernen, je klarer wir das wirkliche Verhältnis bemessen, in welchem der Mensch und sein Handeln zu dem harmonischen Ganzen steht, umsomehr verzwergt und entkleidet sich unser praktisches Ideal, bis nischen Ganzen steht, umsomehr verzwergt und entkleidet sich unser praktisches Ideal, bis wir die Neigung zu der Frage verspüren, ob ein so vergängliches und bedeutungsloses Ereignis in der allgemeinen Ordnung der Dinge, wie die Schicksale der Menschenrasse es sind, die Sehnsucht und die Gefühle noch befriedigen kann, die groß geworden sind an dem Glauben an das Ewige und Gott.\"</th>\n",
       "      <td>1</td>\n",
       "      <td>2</td>\n",
       "      <td>Stoffwelt, verzwergt und entkleidet</td>\n",
       "      <td>unser praktisches Ideal</td>\n",
       "    </tr>\n",
       "    <tr>\n",
       "      <th>\"Solange das Menschengeschlecht seinen Zerstörern größere Bewunderung zollen wird als seinen Wohltätern, muß auch der Durst derung zollen wird als seinen Wohltätern, muß auch der Durst nach Kriegsruhm stets den Fehler der erhabensten Charaktere bilden\",</th>\n",
       "      <td>0</td>\n",
       "      <td>3</td>\n",
       "      <td>NaN</td>\n",
       "      <td>NaN</td>\n",
       "    </tr>\n",
       "    <tr>\n",
       "      <th>...</th>\n",
       "      <td>...</td>\n",
       "      <td>...</td>\n",
       "      <td>...</td>\n",
       "      <td>...</td>\n",
       "    </tr>\n",
       "    <tr>\n",
       "      <th>verlaufs; sie hat Naturforschung in dem von uns beschriebenen Sinn sein wollen, so daß ihr alle menschlichen Zweckvorstellungen, Bestrebungen, geistigen Strömungen nur als unroirlsame Begleiterscheinungen, als unwesentliche Zugaben des Geschichtsverlaufs gegolten haben Für den Materialismus im eigentlichen Sinn dürfen Vorstellungen Bewußtseinsorgane überhaupt, nur aufspritzenden Blasen gleichen, die auf die Richtung des ungehindert dahinbransenden Stroms keinen Einfluß auszuüben vermögen.</th>\n",
       "      <td>0</td>\n",
       "      <td>3</td>\n",
       "      <td>NaN</td>\n",
       "      <td>NaN</td>\n",
       "    </tr>\n",
       "    <tr>\n",
       "      <th>wenn wir uns ein Prinzip denken und auf Grund dessen staatliche Menschenverhältnisse entwickeln, so  müssen wir auf alle Fälle, wenn die so bestimmten Verhältnisse nicht nach dem Willen des »Gesetzgebers« verstellbare Puppen oder Einwohner der Insel Utopia (= Nirgendsort) betreffen sollen, erst uns klar werden, wie es sich mit der Notwendigkeit der Verhältnisse verhält.</th>\n",
       "      <td>1</td>\n",
       "      <td>2</td>\n",
       "      <td>verstellbare Puppen</td>\n",
       "      <td>staatliche Menschenverhältnisse</td>\n",
       "    </tr>\n",
       "    <tr>\n",
       "      <th>wenn wir von dem schlechten Worte »Rechtsphilofophie« absehen, so vergißt man bei jener Annahme, einmal daß eine Philosophie, welche die Prinzipien erst aufstellt und dann erprobt. schwindsüchtig ist und zweitens daß eine »Rechtsphilosophie« nicht Ergründung von Prinzipien, sondern höchstens nur Verwendung derselben für ein allgemeines Weltbild (: Philosophie) ist.</th>\n",
       "      <td>2</td>\n",
       "      <td>1</td>\n",
       "      <td>schwindsüchtig ist</td>\n",
       "      <td>daß eine Philosophie</td>\n",
       "    </tr>\n",
       "    <tr>\n",
       "      <th>»Die Macht, die das Kabinett hat, auf die verschiedenen Motive, welche die Mitglieder des Parlaments leiten, einzuwirken, ist so groß, daß die Majorität mehr und mehr eine Bewilligungsmaschine wird1).</th>\n",
       "      <td>0</td>\n",
       "      <td>2</td>\n",
       "      <td>NaN</td>\n",
       "      <td>NaN</td>\n",
       "    </tr>\n",
       "    <tr>\n",
       "      <th>Über die Wirkungen der Kreuzung auf die körperliche Konstitution gehen Meinungen der Forscher auseinander.</th>\n",
       "      <td>0</td>\n",
       "      <td>2</td>\n",
       "      <td>NaN</td>\n",
       "      <td>NaN</td>\n",
       "    </tr>\n",
       "  </tbody>\n",
       "</table>\n",
       "<p>806 rows × 4 columns</p>\n",
       "</div>"
      ],
      "text/plain": [
       "                                                    Metapher  Kandidat  \\\n",
       "Textstelle                                                               \n",
       " \"Der politische Körper verwendet in beiden Fäl...         2         1   \n",
       " \"Immer noch wird durch die protestantische Leh...         0         3   \n",
       " \"Kein Zweifel\", schreibt Alb. Schaeffle 1), vo...         0         3   \n",
       " \"Mit je weiterem Blick wir die Stoffwelt zu üb...         1         2   \n",
       " \"Solange das Menschengeschlecht seinen Zerstör...         0         3   \n",
       "...                                                      ...       ...   \n",
       "verlaufs; sie hat Naturforschung in dem von uns...         0         3   \n",
       "wenn wir uns ein Prinzip denken und auf Grund d...         1         2   \n",
       "wenn wir von dem schlechten Worte »Rechtsphilof...         2         1   \n",
       "»Die Macht, die das Kabinett hat, auf die versc...         0         2   \n",
       "Über die Wirkungen der Kreuzung auf die körperl...         0         2   \n",
       "\n",
       "                                                                                  Fokus  \\\n",
       "Textstelle                                                                                \n",
       " \"Der politische Körper verwendet in beiden Fäl...                   Zähnen und Krallen   \n",
       " \"Immer noch wird durch die protestantische Leh...                                  NaN   \n",
       " \"Kein Zweifel\", schreibt Alb. Schaeffle 1), vo...                                  NaN   \n",
       " \"Mit je weiterem Blick wir die Stoffwelt zu üb...  Stoffwelt, verzwergt und entkleidet   \n",
       " \"Solange das Menschengeschlecht seinen Zerstör...                                  NaN   \n",
       "...                                                                                 ...   \n",
       "verlaufs; sie hat Naturforschung in dem von uns...                                  NaN   \n",
       "wenn wir uns ein Prinzip denken und auf Grund d...                  verstellbare Puppen   \n",
       "wenn wir von dem schlechten Worte »Rechtsphilof...                   schwindsüchtig ist   \n",
       "»Die Macht, die das Kabinett hat, auf die versc...                                  NaN   \n",
       "Über die Wirkungen der Kreuzung auf die körperl...                                  NaN   \n",
       "\n",
       "                                                                             Rahmen  \n",
       "Textstelle                                                                           \n",
       " \"Der politische Körper verwendet in beiden Fäl...            der politische Körper  \n",
       " \"Immer noch wird durch die protestantische Leh...                              NaN  \n",
       " \"Kein Zweifel\", schreibt Alb. Schaeffle 1), vo...                              NaN  \n",
       " \"Mit je weiterem Blick wir die Stoffwelt zu üb...          unser praktisches Ideal  \n",
       " \"Solange das Menschengeschlecht seinen Zerstör...                              NaN  \n",
       "...                                                                             ...  \n",
       "verlaufs; sie hat Naturforschung in dem von uns...                              NaN  \n",
       "wenn wir uns ein Prinzip denken und auf Grund d...  staatliche Menschenverhältnisse  \n",
       "wenn wir von dem schlechten Worte »Rechtsphilof...             daß eine Philosophie  \n",
       "»Die Macht, die das Kabinett hat, auf die versc...                              NaN  \n",
       "Über die Wirkungen der Kreuzung auf die körperl...                              NaN  \n",
       "\n",
       "[806 rows x 4 columns]"
      ]
     },
     "execution_count": 8,
     "metadata": {},
     "output_type": "execute_result"
    }
   ],
   "source": [
    "data = data.merge(erklärung, on = \"Textstelle\")\n",
    "data"
   ]
  },
  {
   "cell_type": "code",
   "execution_count": 9,
   "id": "7313ff1e",
   "metadata": {},
   "outputs": [
    {
     "data": {
      "text/plain": [
       "' Solange das Menschengeschlecht seinen Zerstörern größere Bewunderung zollen wird als seinen Wohltätern, muß auch der Durst derung zollen wird als seinen Wohltätern, muß auch der Durst nach Kriegsruhm stets den Fehler der erhabensten Charaktere bilden,'"
      ]
     },
     "execution_count": 9,
     "metadata": {},
     "output_type": "execute_result"
    }
   ],
   "source": [
    "text = data.index[4]\n",
    "text = text.replace('\"', '')\n",
    "text"
   ]
  },
  {
   "cell_type": "code",
   "execution_count": 10,
   "id": "de6a4aec",
   "metadata": {},
   "outputs": [
    {
     "name": "stdout",
     "output_type": "stream",
     "text": [
      " \"Wir behaupten nicht, daß die Bildung der einzige Faktor sei, der die Geburtenziffer verkleinert; sie ist nur einer dieser Faktoren, der, verbunden mit materieller Bequem- ziffer verkleinert; sie ist nur einer dieser Faktoren, der, verbunden mit materieller Bequemlichkeit, mit weniger lebhaften und weniger wahmehmbaren religiösen Gefühlen und mit lichkeit, mit weniger lebhaften und weniger wahmehmbaren religiösen Gefühlen und mit dem heißen Wunsch, in materieller Beziehung auf einen höheren und besseren Fuß zu kommen, solche intellektuelle und moralische Eigenschaften anhäuft, die für eine hohe Geburtenziffer wenig günstig sind . . . . burtenziffer wenig günstig sind . . . . \n",
      "\n",
      " Der beste Gesetzgeber ist deshalb derjenige, der sein Ziel stufenmäßig durch möglichst geringe Abänderungen der jeweilig geltenden recht- mäßig durch möglichst geringe Abänderungen der jeweilig geltenden rechtlichen Regelung erreicht, weil er auf diese Weise einmal sein Volk vor lichen Regelung erreicht, weil er auf diese Weise einmal sein Volk vor gefährlichen Experimenten bewahrt, immer in der Lage ist, den theoretisch beabsichtigten Erfolg eines Gesetzes in der Praxis nachzuprüfen und andererseits sicher ist, daß seine gesetzgeberischen Maßnahmen im Rechtsbewußtsein seits sicher ist, daß seine gesetzgeberischen Maßnahmen im Rechtsbewußtsein des Volkes Anknüpfungspunkte finden und nicht tote Buchstaben bleiben.\n",
      "\n",
      " Ebenso ließen sich in dem industriereichen Belgien die herrschenden Bourgoisparteien, nämlich die sogenannten Liberalen und die sogenannte katholische goisparteien, nämlich die sogenannten Liberalen und die sogenannte katholische Partei, die abwechselnd am Ruder waren, erst vor ca. einem Vierteljahrhundert, nachdem gefährliche revolutionäre Bestrebungen beinahe die Oberhand erlangt hatten, dazu herbei, das formelle Verfassungsrecht einigermaßen den tatsächlichen Verhältnissen anzupassen, und von da erst datieren alle die wirt- sächlichen Verhältnissen anzupassen, und von da erst datieren alle die wirtschaftlichen Reformen, die neuerdings auch in Belgien eingetreten sind und schaftlichen Reformen, die neuerdings auch in Belgien eingetreten sind und die vorher vergeblich verlangt worden waren3).\n",
      "\n",
      " Ein ähnliches Wechselverhältnis muß zwischen der Höhe des menschlichen Intellekts und seiner leiblichen Wehrhaftigkeit bestanden haben: Je lichen Intellekts und seiner leiblichen Wehrhaftigkeit bestanden haben: Je höher der menschliche Intellekt entwickelt war, um so weniger gaben Muskelkraft und Schnelligkeit den Ausschlag für die Auslese, desto weniger konnte kraft und Schnelligkeit den Ausschlag für die Auslese, desto weniger konnte also große Leistungsfähigkeit auf diesen Gebieten gezüchtet werden, und andererseits mußte gerade das Zurückbleiben in bezug auf solche Vorzüge und die fast gänzliche Waffenlosigkeit des menschlichen Organismus die Vervollkommnung seines Intellekts mit Hilfe der Auslese begünstigen. vollkommnung seines Intellekts mit Hilfe der Auslese begünstigen.\n",
      "\n",
      " Obiger Einwand ist im Grunde derselbe, mit dem ein Landwirt früher, als man von Agrikulturchemie noch wenig wußte und noch niemand tiefer in die Geschichte des Landbaues eingedrungen war, die Behauptung abgefertigt hätte, daß der Boden notwendig an gewissen chemischen Bestand- gefertigt hätte, daß der Boden notwendig an gewissen chemischen Bestandteilen, die er nicht im Überfluß besitzt, und die zum Getreideanbau unentbehrlich teilen, die er nicht im Überfluß besitzt, und die zum Getreideanbau unentbehrlich sind, mehr und mehr verarmen müsse, wenn man sie ihm fortwährend entziehe, ohne sie zu ersetzen. ziehe, ohne sie zu ersetzen.\n",
      "\n",
      " Sobald aber das Herabsinken einen Punkt erreicht, auf dem die Existenzfähigkeit beeinträchtigt wird, greift die Naturzüchtung ausmerzend wieder ein und ver- einträchtigt wird, greift die Naturzüchtung ausmerzend wieder ein und verhindert dadurch ein weiteres Sinken. Unter Umständen kann sich dieses Aus- hindert dadurch ein weiteres Sinken. Unter Umständen kann sich dieses Ausmerzen auf ganze Stämme und Völker erstrecken, bei Tieren wie bei Menschen. merzen auf ganze Stämme und Völker erstrecken, bei Tieren wie bei Menschen.\n",
      "\n",
      " Wenn also einzelne Soziologen in der hohen Kindersterblichkeit in Deutschland befriedigt das Walten der natürlichen Auslese erblicken, wenn ein Autor (Otto Zacharias) in deutlichem Anklange an die 1. Auflage von Robert Malthus’ Hauptwerk den lichem Anklange an die 1. Auflage von Robert Malthus’ Hauptwerk den Satz aufstellt, »daß die enorme Kindersterblichkeit der großen Städte die Pforte sei, durch welche alle diejenigen jungen Leben, für welche kein Gedeck an dem großen Gastmahl der Natur aufgelegt ist, sich wieder entfernen deck an dem großen Gastmahl der Natur aufgelegt ist, sich wieder entfernen müssen«, so ist das eine völlige Verkennung der Tatsachen.\n",
      "\n",
      " »Es ist nun noch daran zu erinnern, daß vermöge der Gesetze der Vererbung und der Amphimixis (d. i. innern, daß vermöge der Gesetze der Vererbung und der Amphimixis (d. i. der Verschmelzung der väterlichen und mütterlichen Keimzelle bei der geschlechtlichen Fortpflanzung) in jedem Kinde der nämlichen Eltern wieder schlechtlichen Fortpflanzung) in jedem Kinde der nämlichen Eltern wieder neue Kombinationen entstehen und dadurch eine fast unerschöpfliche Musterkarte für die natürliche Auslese dargeboten wird. karte für die natürliche Auslese dargeboten wird.\n",
      "\n"
     ]
    }
   ],
   "source": [
    "for i in [  6,  89, 138, 146, 248, 273, 307, 345]:\n",
    "    print(data.index[i])\n",
    "    print()"
   ]
  },
  {
   "cell_type": "code",
   "execution_count": 11,
   "id": "31e359b2",
   "metadata": {},
   "outputs": [
    {
     "data": {
      "text/plain": [
       "' Es kann z. B. vorkommen, daß die Determinantenart a in allen oder fast allen väterlichen Iden homodynam ist (a1), während sie in den mütterlichen Iden nur durch eine Minorität (a1) vertreten ist und die große Mehrheit der mütterlichen Ide eine andere Variante (a2) dieser Determinantenart besitzt. Nach erfolgter Amphimixis wird die im mütterlichen Keimplasma dominierende Variante (a2) gegenüber der im väterlichen dominierenden (a1) in die Minorität geraten, da die a1 aus den mütterlichen Iden mit den a1 nierenden (a1) in die Minorität geraten, da die a1 aus den mütterlichen Iden mit den a1 aus den väterlichen homodynam sind, während a2 auf der väterlichen Seite keine Bundesgenossen vorfindet, wenn dort alle Ide die Variante a1 haben oder auch, wenn eine kleine genossen vorfindet, wenn dort alle Ide die Variante a1 haben oder auch, wenn eine kleine Minorität auf der väterlichen Seite zwar nicht a1, aber auch nicht a2, sondern eine Variante a3 besitzt.'"
      ]
     },
     "execution_count": 11,
     "metadata": {},
     "output_type": "execute_result"
    }
   ],
   "source": [
    "data.index[171]"
   ]
  },
  {
   "cell_type": "code",
   "execution_count": 12,
   "id": "288f06d9",
   "metadata": {},
   "outputs": [
    {
     "data": {
      "text/plain": [
       "' »Die fortschreitende Gesellschaftsbilduug (Civilisation) ist das höchste Ergebnis der vervollkommnenden Auslese der menschlichen Daseinskämpfe; genauer gesagt — ist sie das unausbleibliche Produkt aller Daseins- und Interessenkämpfe, kämpfe, welche von den sozialen Einheiten jeder Entwickelungsstufe teils unter sich, teils gegen die äußere Natur, mit den wachsenden Mitteln der Menschlichen Geistes-, Körperund Vermögensausstattung und innerhalb einer durch Recht und Sitte gesetzten Streit- und Vermögensausstattung und innerhalb einer durch Recht und Sitte gesetzten Streitorganisation ausgekämpft, organisation ausgekämpft, durch den Trieb individueller und kollektiver Selbsterhaltung, durch den organischen Vermehrungstrieb, durch den Eigennutz, durch gemeinnützige Verbesserungsbestrebungen erweckt und in immer höherem Grade erneuert, um die Befriedigung nicht bloß der sinnlichen Notdurft, sondern mehr und mehr um ein steigendes Maß höherer materieller und ideeller Lebensansprüche geführt, durch Zufall, durch Spiel, durch äußeren und inneren Krieg durch freien Austrag und durch vielgestaltige Urteilsinstanzen des Wettstreites entschieden werden und notwendig dahin führen: daß im einzelnen die relativ besten Anpassungen sowohl angeregt als zur Herrschaft, Ausbreitung und Überlieferung gebracht, dagegen die relativ schlechtesten Anpassungen, die Entartungen und fremdartigen Bildungen vernichtet, abgestoßen oder zu besserer Anpassung genötigt werden, und daß im ganzen ein wachsendes Maß ideeller und materieller Kräfte für die kollektive Führung des menschlichen Daseinskampfes sich anhäuft, daß immer mehr GesellschaftsBildung, das heißt immer mehr Gliederung und Vereinigung der geistigen und physischen Bildung, das heißt immer mehr Gliederung und Vereinigung der geistigen und physischen Arbeitskräfte, sowie der zugehörigen Güterausstattungen stattfindet.«'"
      ]
     },
     "execution_count": 12,
     "metadata": {},
     "output_type": "execute_result"
    }
   ],
   "source": [
    "data.index[342]"
   ]
  },
  {
   "cell_type": "code",
   "execution_count": 13,
   "id": "d8541022",
   "metadata": {
    "scrolled": true
   },
   "outputs": [
    {
     "data": {
      "text/plain": [
       "' Übrigens haben wir bereits im 9. Kapitel (S. 235-240) gesehen, daß einerseits die Rechenmanöver, die sich auf das Glück einer Gesellschaft beziehen, seits die Rechenmanöver, die sich auf das Glück einer Gesellschaft beziehen, mit ebenso unüberwindlichen Schwierigkeiten zu kämpfen haben wie der Versuch, einen Regenbogen zu besteigen, und daß andererseits von dem Aus- such, einen Regenbogen zu besteigen, und daß andererseits von dem Aussichtspunkt, den die Descendenztheorie gewährt, wahrnehmbar ist, daß Glücks- sichtspunkt, den die Descendenztheorie gewährt, wahrnehmbar ist, daß Glücksempfindungen irgendwelcher Gruppe oder Summe von Personen nicht das empfindungen irgendwelcher Gruppe oder Summe von Personen nicht das Ziel der inneren Politik sein können, sondern ausschließlich die Anpassung an die Bedingungen, von denen für das Gemeinwesen der Sieg im Daseinskampf abhängt.'"
      ]
     },
     "execution_count": 13,
     "metadata": {},
     "output_type": "execute_result"
    }
   ],
   "source": [
    "data.index[354]"
   ]
  },
  {
   "cell_type": "code",
   "execution_count": 14,
   "id": "d933e569",
   "metadata": {},
   "outputs": [],
   "source": [
    "def eliminate_substring(text, k=20):\n",
    "    for ii in range(len(text)):\n",
    "        remaining_text = text[ii:]\n",
    "        \n",
    "        jj = k\n",
    "        while remaining_text[:jj] in remaining_text[jj:]:\n",
    "\n",
    "            jj+=1\n",
    "        if jj > k:\n",
    "            #print(jj)\n",
    "            return text[:ii] + remaining_text[jj-1:]\n",
    "    # if we find no substring, just give the text back\n",
    "    return text"
   ]
  },
  {
   "cell_type": "code",
   "execution_count": 15,
   "id": "02260ad6",
   "metadata": {},
   "outputs": [
    {
     "data": {
      "text/plain": [
       "' Solange das Menschengeschlecht seinen Zerstörern größere Bewunderung zollen wird als seinen Wohltätern, muß auch der Durst nach Kriegsruhm stets den Fehler der erhabensten Charaktere bilden,'"
      ]
     },
     "execution_count": 15,
     "metadata": {},
     "output_type": "execute_result"
    }
   ],
   "source": [
    "eliminate_substring(text)"
   ]
  },
  {
   "cell_type": "code",
   "execution_count": 16,
   "id": "6f4532f5",
   "metadata": {},
   "outputs": [
    {
     "data": {
      "text/plain": [
       "' \"Wir behaupten nicht, daß die Bildung der einzige Faktor sei, der die Geburtenziffer verkleinert; sie ist nur einer dieser Faktoren, der, verbunden mit materieller Bequem- ziffer verkleinert; sie ist nur einer dieser Faktoren, der, verbunden mit materieller Bequemlichkeit, mit weniger lebhaften und weniger wahmehmbaren religiösen Gefühlen und mit lichkeit, mit weniger lebhaften und weniger wahmehmbaren religiösen Gefühlen und mit dem heißen Wunsch, in materieller Beziehung auf einen höheren und besseren Fuß zu kommen, solche intellektuelle und moralische Eigenschaften anhäuft, die für eine hohe Geburtenziffer wenig günstig sind . . . . burtenziffer wenig günstig sind . . . . '"
      ]
     },
     "execution_count": 16,
     "metadata": {},
     "output_type": "execute_result"
    }
   ],
   "source": [
    "text = data.index[6]\n",
    "text"
   ]
  },
  {
   "cell_type": "code",
   "execution_count": 17,
   "id": "f4c61dd9",
   "metadata": {},
   "outputs": [
    {
     "data": {
      "text/plain": [
       "' \"Wir behaupten nicht, daß die Bildung der einzige Faktor sei, der die Geburten- ziffer verkleinert; sie ist nur einer dieser Faktoren, der, verbunden mit materieller Bequemlichkeit, mit weniger lebhaften und weniger wahmehmbaren religiösen Gefühlen und mit dem heißen Wunsch, in materieller Beziehung auf einen höheren und besseren Fuß zu kommen, solche intellektuelle und moralische Eigenschaften anhäuft, die für eine hohe Geburtenziffer wenig günstig sind . . . . '"
      ]
     },
     "execution_count": 17,
     "metadata": {},
     "output_type": "execute_result"
    }
   ],
   "source": [
    "text = eliminate_substring(text)\n",
    "text = eliminate_substring(text)\n",
    "text = eliminate_substring(text)\n",
    "text = eliminate_substring(text)\n",
    "text"
   ]
  },
  {
   "cell_type": "code",
   "execution_count": 18,
   "id": "0d94bc71",
   "metadata": {},
   "outputs": [
    {
     "data": {
      "text/html": [
       "<div>\n",
       "<style scoped>\n",
       "    .dataframe tbody tr th:only-of-type {\n",
       "        vertical-align: middle;\n",
       "    }\n",
       "\n",
       "    .dataframe tbody tr th {\n",
       "        vertical-align: top;\n",
       "    }\n",
       "\n",
       "    .dataframe thead th {\n",
       "        text-align: right;\n",
       "    }\n",
       "</style>\n",
       "<table border=\"1\" class=\"dataframe\">\n",
       "  <thead>\n",
       "    <tr style=\"text-align: right;\">\n",
       "      <th></th>\n",
       "      <th>Textstelle</th>\n",
       "      <th>Metapher</th>\n",
       "      <th>Kandidat</th>\n",
       "      <th>Fokus</th>\n",
       "      <th>Rahmen</th>\n",
       "    </tr>\n",
       "  </thead>\n",
       "  <tbody>\n",
       "    <tr>\n",
       "      <th>0</th>\n",
       "      <td>Der politische Körper verwendet in beiden Fäl...</td>\n",
       "      <td>2</td>\n",
       "      <td>1</td>\n",
       "      <td>Zähnen und Krallen</td>\n",
       "      <td>der politische Körper</td>\n",
       "    </tr>\n",
       "    <tr>\n",
       "      <th>1</th>\n",
       "      <td>Immer noch wird durch die protestantische Leh...</td>\n",
       "      <td>0</td>\n",
       "      <td>3</td>\n",
       "      <td>NaN</td>\n",
       "      <td>NaN</td>\n",
       "    </tr>\n",
       "    <tr>\n",
       "      <th>2</th>\n",
       "      <td>Kein Zweifel, schreibt Alb. Schaeffle 1), vor...</td>\n",
       "      <td>0</td>\n",
       "      <td>3</td>\n",
       "      <td>NaN</td>\n",
       "      <td>NaN</td>\n",
       "    </tr>\n",
       "    <tr>\n",
       "      <th>3</th>\n",
       "      <td>Mit je weiterem Blick wir die Stoffwelt zu üb...</td>\n",
       "      <td>1</td>\n",
       "      <td>2</td>\n",
       "      <td>Stoffwelt, verzwergt und entkleidet</td>\n",
       "      <td>unser praktisches Ideal</td>\n",
       "    </tr>\n",
       "    <tr>\n",
       "      <th>4</th>\n",
       "      <td>Solange das Menschengeschlecht seinen Zerstör...</td>\n",
       "      <td>0</td>\n",
       "      <td>3</td>\n",
       "      <td>NaN</td>\n",
       "      <td>NaN</td>\n",
       "    </tr>\n",
       "    <tr>\n",
       "      <th>...</th>\n",
       "      <td>...</td>\n",
       "      <td>...</td>\n",
       "      <td>...</td>\n",
       "      <td>...</td>\n",
       "      <td>...</td>\n",
       "    </tr>\n",
       "    <tr>\n",
       "      <th>801</th>\n",
       "      <td>verlaufs; sie hat Naturforschung in dem von un...</td>\n",
       "      <td>0</td>\n",
       "      <td>3</td>\n",
       "      <td>NaN</td>\n",
       "      <td>NaN</td>\n",
       "    </tr>\n",
       "    <tr>\n",
       "      <th>802</th>\n",
       "      <td>wenn wir uns ein Prinzip denken und auf Grund ...</td>\n",
       "      <td>1</td>\n",
       "      <td>2</td>\n",
       "      <td>verstellbare Puppen</td>\n",
       "      <td>staatliche Menschenverhältnisse</td>\n",
       "    </tr>\n",
       "    <tr>\n",
       "      <th>803</th>\n",
       "      <td>wenn wir von dem schlechten Worte »Rechtsphilo...</td>\n",
       "      <td>2</td>\n",
       "      <td>1</td>\n",
       "      <td>schwindsüchtig ist</td>\n",
       "      <td>daß eine Philosophie</td>\n",
       "    </tr>\n",
       "    <tr>\n",
       "      <th>804</th>\n",
       "      <td>»Die Macht, die das Kabinett hat, auf die vers...</td>\n",
       "      <td>0</td>\n",
       "      <td>2</td>\n",
       "      <td>NaN</td>\n",
       "      <td>NaN</td>\n",
       "    </tr>\n",
       "    <tr>\n",
       "      <th>805</th>\n",
       "      <td>Über die Wirkungen der Kreuzung auf die körper...</td>\n",
       "      <td>0</td>\n",
       "      <td>2</td>\n",
       "      <td>NaN</td>\n",
       "      <td>NaN</td>\n",
       "    </tr>\n",
       "  </tbody>\n",
       "</table>\n",
       "<p>806 rows × 5 columns</p>\n",
       "</div>"
      ],
      "text/plain": [
       "                                            Textstelle  Metapher  Kandidat  \\\n",
       "0     Der politische Körper verwendet in beiden Fäl...         2         1   \n",
       "1     Immer noch wird durch die protestantische Leh...         0         3   \n",
       "2     Kein Zweifel, schreibt Alb. Schaeffle 1), vor...         0         3   \n",
       "3     Mit je weiterem Blick wir die Stoffwelt zu üb...         1         2   \n",
       "4     Solange das Menschengeschlecht seinen Zerstör...         0         3   \n",
       "..                                                 ...       ...       ...   \n",
       "801  verlaufs; sie hat Naturforschung in dem von un...         0         3   \n",
       "802  wenn wir uns ein Prinzip denken und auf Grund ...         1         2   \n",
       "803  wenn wir von dem schlechten Worte »Rechtsphilo...         2         1   \n",
       "804  »Die Macht, die das Kabinett hat, auf die vers...         0         2   \n",
       "805  Über die Wirkungen der Kreuzung auf die körper...         0         2   \n",
       "\n",
       "                                   Fokus                           Rahmen  \n",
       "0                     Zähnen und Krallen            der politische Körper  \n",
       "1                                    NaN                              NaN  \n",
       "2                                    NaN                              NaN  \n",
       "3    Stoffwelt, verzwergt und entkleidet          unser praktisches Ideal  \n",
       "4                                    NaN                              NaN  \n",
       "..                                   ...                              ...  \n",
       "801                                  NaN                              NaN  \n",
       "802                  verstellbare Puppen  staatliche Menschenverhältnisse  \n",
       "803                   schwindsüchtig ist             daß eine Philosophie  \n",
       "804                                  NaN                              NaN  \n",
       "805                                  NaN                              NaN  \n",
       "\n",
       "[806 rows x 5 columns]"
      ]
     },
     "execution_count": 18,
     "metadata": {},
     "output_type": "execute_result"
    }
   ],
   "source": [
    "data.reset_index(inplace = True)\n",
    "data[\"Textstelle\"] = data.Textstelle.str.replace('\"', '')\n",
    "data"
   ]
  },
  {
   "cell_type": "code",
   "execution_count": 19,
   "id": "c8908461",
   "metadata": {},
   "outputs": [
    {
     "name": "stdout",
     "output_type": "stream",
     "text": [
      "Before cleaning: \n",
      " mean:   261.741 \n",
      "median: 231.000\n",
      "Before cleaning: \n",
      " mean:   241.110 \n",
      "median: 215.500\n"
     ]
    },
    {
     "name": "stderr",
     "output_type": "stream",
     "text": [
      "/var/folders/j4/qmf6qmvd1gv0nctgx3m6jm3r0000gn/T/ipykernel_14845/2389099236.py:23: FutureWarning: The default value of regex will change from True to False in a future version.\n",
      "  data[\"Textstelle\"] = data.Textstelle.str.replace(r'\\d', '')\n",
      "/var/folders/j4/qmf6qmvd1gv0nctgx3m6jm3r0000gn/T/ipykernel_14845/2389099236.py:25: FutureWarning: The default value of regex will change from True to False in a future version.\n",
      "  data[\"Textstelle\"] = data.Textstelle.str.replace(r'\\[', '')\n",
      "/var/folders/j4/qmf6qmvd1gv0nctgx3m6jm3r0000gn/T/ipykernel_14845/2389099236.py:26: FutureWarning: The default value of regex will change from True to False in a future version.\n",
      "  data[\"Textstelle\"] = data.Textstelle.str.replace(r'\\]', '')\n",
      "/var/folders/j4/qmf6qmvd1gv0nctgx3m6jm3r0000gn/T/ipykernel_14845/2389099236.py:34: FutureWarning: The default value of regex will change from True to False in a future version.\n",
      "  data[\"Textstelle\"] = data.Textstelle.str.replace(r'^\\s*', \"\")\n"
     ]
    },
    {
     "data": {
      "image/png": "[encoded data removed]",
      "text/plain": [
       "<Figure size 432x288 with 1 Axes>"
      ]
     },
     "metadata": {
      "needs_background": "light"
     },
     "output_type": "display_data"
    }
   ],
   "source": [
    "bins = np.arange(0, 1000, 40)\n",
    "\n",
    "data[\"Textstelle\"].str.len().hist(bins=bins, alpha = 0.7, label=\"before cleaning\");\n",
    "\n",
    "mean = data[\"Textstelle\"].str.len().mean()\n",
    "median = data[\"Textstelle\"].str.len().median()\n",
    "\n",
    "plt.axvline(mean, label=f\"mean: {mean:.0f}\")\n",
    "#plt.axvline(median, label=\"median\")\n",
    "\n",
    "print(f\"Before cleaning: \\n \\\n",
    "mean:   {mean:.3f} \\n\\\n",
    "median: {median:.3f}\")\n",
    "\n",
    "data[\"Kürzungen\"] = 0\n",
    "\n",
    "for i in range(6):\n",
    "    new_data = data[\"Textstelle\"].apply(eliminate_substring)\n",
    "    data[\"Kürzungen\"] += (data[\"Textstelle\"] != new_data)\n",
    "    data[\"Textstelle\"] = new_data\n",
    "\n",
    "#remove digits    \n",
    "data[\"Textstelle\"] = data.Textstelle.str.replace(r'\\d', '')\n",
    "# remove brackets:\n",
    "data[\"Textstelle\"] = data.Textstelle.str.replace(r'\\[', '')\n",
    "data[\"Textstelle\"] = data.Textstelle.str.replace(r'\\]', '')\n",
    "# remove quotation marks\n",
    "data[\"Textstelle\"] = data.Textstelle.str.replace(r'»', '')\n",
    "data[\"Textstelle\"] = data.Textstelle.str.replace(r'«', '')\n",
    "# remove special characters\n",
    "data[\"Textstelle\"] = data.Textstelle.str.replace(r':', '')\n",
    "data[\"Textstelle\"] = data.Textstelle.str.replace(r';', '')\n",
    "# remove leading whitespace\n",
    "data[\"Textstelle\"] = data.Textstelle.str.replace(r'^\\s*', \"\")\n",
    "\n",
    "\n",
    "\n",
    "data[\"Textstelle\"].str.len().hist(bins=bins, alpha = 0.7, label=\"after cleaning\");\n",
    "\n",
    "mean = data[\"Textstelle\"].str.len().mean()\n",
    "median = data[\"Textstelle\"].str.len().median()\n",
    "\n",
    "plt.axvline(mean, label=f\"mean: {mean:.0f}\", c = \"tab:orange\")\n",
    "#plt.axvline(median, label=\"median\", c = \"tab:orange\")\n",
    "\n",
    "print(f\"Before cleaning: \\n \\\n",
    "mean:   {mean:.3f} \\n\\\n",
    "median: {median:.3f}\")\n",
    "\n",
    "plt.legend()\n",
    "plt.xlabel(\"# Characters per 'Textstelle'\");\n",
    "plt.xlim([0, 1000]);"
   ]
  },
  {
   "cell_type": "code",
   "execution_count": 20,
   "id": "7ebde5f9",
   "metadata": {},
   "outputs": [
    {
     "data": {
      "text/plain": [
       "Text(0, 0.5, 'iterations')"
      ]
     },
     "execution_count": 20,
     "metadata": {},
     "output_type": "execute_result"
    },
    {
     "data": {
      "image/png": "[encoded data removed]",
      "text/plain": [
       "<Figure size 432x288 with 1 Axes>"
      ]
     },
     "metadata": {
      "needs_background": "light"
     },
     "output_type": "display_data"
    }
   ],
   "source": [
    "vc = data[\"Kürzungen\"].value_counts(normalize=True)\n",
    "\n",
    "plt.barh(vc.index, vc);\n",
    "plt.title(\"# Fracgment Cleaning Iterations necessary\")\n",
    "plt.xlabel(\"proportion\");\n",
    "plt.ylabel(\"iterations\")"
   ]
  },
  {
   "cell_type": "code",
   "execution_count": 21,
   "id": "87cfc78b",
   "metadata": {},
   "outputs": [
    {
     "data": {
      "text/plain": [
       "(array([  6,  89, 138, 146, 248, 273, 307, 345]),)"
      ]
     },
     "execution_count": 21,
     "metadata": {},
     "output_type": "execute_result"
    }
   ],
   "source": [
    "np.where(data[\"Kürzungen\"] == 3)"
   ]
  },
  {
   "cell_type": "code",
   "execution_count": 22,
   "id": "1a54e869",
   "metadata": {},
   "outputs": [
    {
     "data": {
      "text/plain": [
       "' Doch sind die Grenzen beider Reiche, die zusammen das Forschungsgebiet der Ethik bilden, im einzelnen nicht genau bestimmbar, und die sozialen Anlagen des Menschen, die vielfach der Erziehung bedürfen, um so wirksam zu werden, wie es bei den anderen Instinkten spontan der Fall ist, gehören, wenn sie ausgebildet sind, beiden Reichen an.'"
      ]
     },
     "execution_count": 22,
     "metadata": {},
     "output_type": "execute_result"
    }
   ],
   "source": [
    "df.loc[354, \"Textstelle\"]"
   ]
  },
  {
   "cell_type": "code",
   "execution_count": 23,
   "id": "4ddf5f71",
   "metadata": {},
   "outputs": [
    {
     "ename": "NameError",
     "evalue": "name 'a' is not defined",
     "output_type": "error",
     "traceback": [
      "\u001b[0;31m---------------------------------------------------------------------------\u001b[0m",
      "\u001b[0;31mNameError\u001b[0m                                 Traceback (most recent call last)",
      "Input \u001b[0;32mIn [23]\u001b[0m, in \u001b[0;36m<cell line: 1>\u001b[0;34m()\u001b[0m\n\u001b[0;32m----> 1\u001b[0m \u001b[43ma\u001b[49m\n",
      "\u001b[0;31mNameError\u001b[0m: name 'a' is not defined"
     ]
    }
   ],
   "source": [
    "a"
   ]
  },
  {
   "cell_type": "code",
   "execution_count": null,
   "id": "e452f967",
   "metadata": {},
   "outputs": [],
   "source": [
    "data.drop(\"Kürzungen\", axis=1, inplace = True)"
   ]
  },
  {
   "cell_type": "code",
   "execution_count": null,
   "id": "294263fc",
   "metadata": {},
   "outputs": [],
   "source": [
    "#remove digits\n",
    "data[\"Textstelle\"].str.len().hist(bins=bins, alpha = 0.7);\n",
    "data[\"Textstelle\"] = data.Textstelle.str.replace(r'\\d', '')\n",
    "data[\"Textstelle\"].str.len().hist(bins=bins, alpha = 0.7);"
   ]
  },
  {
   "cell_type": "code",
   "execution_count": null,
   "id": "6d973143",
   "metadata": {},
   "outputs": [],
   "source": [
    "# remove brackets:\n",
    "data[\"Textstelle\"].str.len().hist(bins=bins, alpha = 0.7);\n",
    "data[\"Textstelle\"] = data.Textstelle.str.replace(r'\\[', '')\n",
    "data[\"Textstelle\"] = data.Textstelle.str.replace(r'\\]', '')\n",
    "data[\"Textstelle\"].str.len().hist(bins=bins, alpha = 0.7);"
   ]
  },
  {
   "cell_type": "code",
   "execution_count": null,
   "id": "37e02cad",
   "metadata": {},
   "outputs": [],
   "source": [
    "# remove quotation marks\n",
    "data[\"Textstelle\"].str.len().hist(bins=bins, alpha = 0.7);\n",
    "data[\"Textstelle\"] = data.Textstelle.str.replace(r'»', '')\n",
    "data[\"Textstelle\"] = data.Textstelle.str.replace(r'«', '')\n",
    "data[\"Textstelle\"].str.len().hist(bins=bins, alpha = 0.7);"
   ]
  },
  {
   "cell_type": "code",
   "execution_count": null,
   "id": "59e74d38",
   "metadata": {},
   "outputs": [],
   "source": [
    "# remove special characters\n",
    "data[\"Textstelle\"].str.len().hist(bins=bins, alpha = 0.7);\n",
    "data[\"Textstelle\"] = data.Textstelle.str.replace(r':', '')\n",
    "data[\"Textstelle\"] = data.Textstelle.str.replace(r';', '')\n",
    "data[\"Textstelle\"].str.len().hist(bins=bins, alpha = 0.7);"
   ]
  },
  {
   "cell_type": "code",
   "execution_count": null,
   "id": "2d15a417",
   "metadata": {},
   "outputs": [],
   "source": [
    "# remove leading whitespace\n",
    "data[\"Textstelle\"].str.len().hist(bins=bins, alpha = 0.7);\n",
    "data[\"Textstelle\"] = data.Textstelle.str.replace(r'^\\s*', \"\")\n",
    "data[\"Textstelle\"].str.len().hist(bins=bins, alpha = 0.7);"
   ]
  },
  {
   "cell_type": "markdown",
   "id": "61d02898",
   "metadata": {},
   "source": [
    "# Can we find the Fokus inside the Textstelle?\n",
    "\n",
    "This is harder than it appears at first. The main task was not finding the Fokus, so there is no unified pattern."
   ]
  },
  {
   "cell_type": "code",
   "execution_count": null,
   "id": "bdee30d1",
   "metadata": {},
   "outputs": [],
   "source": [
    "data[[\"Textstelle\", \"Metapher\", \"Kandidat\"]].head()"
   ]
  },
  {
   "cell_type": "code",
   "execution_count": null,
   "id": "5a6048c5",
   "metadata": {},
   "outputs": [],
   "source": [
    "from sklearn.preprocessing import normalize\n",
    "\n",
    "labs = data[[\"Metapher\", \"Kandidat\"]].to_numpy()\n",
    "labs = np.exp(labs)\n",
    "labs = normalize(labs, \"l1\")\n",
    "labs"
   ]
  },
  {
   "cell_type": "code",
   "execution_count": null,
   "id": "8a2912ce",
   "metadata": {},
   "outputs": [],
   "source": [
    "data[[\"Metapher\", \"Kandidat\"]] = labs\n",
    "data.tail()"
   ]
  },
  {
   "cell_type": "markdown",
   "id": "e015ee2e",
   "metadata": {},
   "source": [
    "# GoldStandard"
   ]
  },
  {
   "cell_type": "code",
   "execution_count": null,
   "id": "e612bda5",
   "metadata": {},
   "outputs": [],
   "source": [
    "gold = pd.read_csv(\"/Users/fynn/Uni/DL4NLP/data/Annotationen-Stufe-2-GoldStandard.csv\", index_col=0)\n",
    "gold"
   ]
  },
  {
   "cell_type": "code",
   "execution_count": null,
   "id": "f934d16a",
   "metadata": {},
   "outputs": [],
   "source": [
    "gold[\"Metapher\"] = (gold[\"Metapher?\"] == \"Metapher\").astype(int)\n",
    "gold[\"Kandidat\"] = (gold[\"Metapher?\"] == \"Metaphernkandidat\").astype(int)\n",
    "gold.drop(\"Metapher?\", axis=1, inplace = True)\n",
    "gold"
   ]
  },
  {
   "cell_type": "code",
   "execution_count": null,
   "id": "6573e11a",
   "metadata": {},
   "outputs": [],
   "source": [
    "gold[[\"Textstelle\", \"Annotator\", \"Metapher\", \"Kandidat\"]].head()"
   ]
  },
  {
   "cell_type": "code",
   "execution_count": null,
   "id": "490ee678",
   "metadata": {},
   "outputs": [],
   "source": [
    "data[[\"Textstelle\", \"Metapher\", \"Kandidat\"]].head().round(4)"
   ]
  },
  {
   "cell_type": "code",
   "execution_count": null,
   "id": "3f1a83ca",
   "metadata": {},
   "outputs": [],
   "source": [
    "data.Textstelle[0]"
   ]
  }
 ],
 "metadata": {
  "kernelspec": {
   "display_name": "Python 3 (ipykernel)",
   "language": "python",
   "name": "python3"
  },
  "language_info": {
   "codemirror_mode": {
    "name": "ipython",
    "version": 3
   },
   "file_extension": ".py",
   "mimetype": "text/x-python",
   "name": "python",
   "nbconvert_exporter": "python",
   "pygments_lexer": "ipython3",
   "version": "3.10.5"
  }
 },
 "nbformat": 4,
 "nbformat_minor": 5
}
