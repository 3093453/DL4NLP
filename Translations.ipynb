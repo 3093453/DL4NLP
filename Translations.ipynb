{
 "cells": [
  {
   "cell_type": "code",
   "execution_count": 1,
   "id": "17dc11aa",
   "metadata": {},
   "outputs": [],
   "source": [
    "import numpy as np\n",
    "import pandas as pd\n",
    "import matplotlib.pyplot as plt"
   ]
  },
  {
   "cell_type": "code",
   "execution_count": 2,
   "id": "8a5933b3",
   "metadata": {},
   "outputs": [
    {
     "data": {
      "text/html": [
       "<div>\n",
       "<style scoped>\n",
       "    .dataframe tbody tr th:only-of-type {\n",
       "        vertical-align: middle;\n",
       "    }\n",
       "\n",
       "    .dataframe tbody tr th {\n",
       "        vertical-align: top;\n",
       "    }\n",
       "\n",
       "    .dataframe thead th {\n",
       "        text-align: right;\n",
       "    }\n",
       "</style>\n",
       "<table border=\"1\" class=\"dataframe\">\n",
       "  <thead>\n",
       "    <tr style=\"text-align: right;\">\n",
       "      <th></th>\n",
       "      <th>Textstelle</th>\n",
       "      <th>Metapher</th>\n",
       "      <th>Kandidat</th>\n",
       "      <th>Nein</th>\n",
       "      <th>Metapher?</th>\n",
       "      <th>Fokus</th>\n",
       "      <th>Rahmen</th>\n",
       "      <th>Annotator</th>\n",
       "      <th>orig</th>\n",
       "    </tr>\n",
       "    <tr>\n",
       "      <th>index</th>\n",
       "      <th></th>\n",
       "      <th></th>\n",
       "      <th></th>\n",
       "      <th></th>\n",
       "      <th></th>\n",
       "      <th></th>\n",
       "      <th></th>\n",
       "      <th></th>\n",
       "      <th></th>\n",
       "    </tr>\n",
       "  </thead>\n",
       "  <tbody>\n",
       "    <tr>\n",
       "      <th>0</th>\n",
       "      <td>Der politische Körper verwendet in beiden Fäll...</td>\n",
       "      <td>3</td>\n",
       "      <td>1</td>\n",
       "      <td>0</td>\n",
       "      <td>Metapher</td>\n",
       "      <td>['Zähnen und Krallen', 'Zähnen und Krallen', n...</td>\n",
       "      <td>['der politische Körper', 'der politische Körp...</td>\n",
       "      <td>['B', 'K', 'A', 'GoldStandard']</td>\n",
       "      <td>\"Der politische Körper verwendet in beiden Fä...</td>\n",
       "    </tr>\n",
       "    <tr>\n",
       "      <th>1</th>\n",
       "      <td>Immer noch wird durch die protestantische Lehr...</td>\n",
       "      <td>0</td>\n",
       "      <td>4</td>\n",
       "      <td>0</td>\n",
       "      <td>Metaphernkandidat</td>\n",
       "      <td>[nan, nan, nan, nan]</td>\n",
       "      <td>[nan, nan, nan, nan]</td>\n",
       "      <td>['B', 'K', 'A', 'GoldStandard']</td>\n",
       "      <td>\"Immer noch wird durch die protestantische Le...</td>\n",
       "    </tr>\n",
       "    <tr>\n",
       "      <th>2</th>\n",
       "      <td>Kein Zweifel, schreibt Alb. Schaeffle, vorauss...</td>\n",
       "      <td>0</td>\n",
       "      <td>4</td>\n",
       "      <td>0</td>\n",
       "      <td>Metaphernkandidat</td>\n",
       "      <td>[nan, nan, nan, nan]</td>\n",
       "      <td>[nan, nan, nan, nan]</td>\n",
       "      <td>['B', 'K', 'A', 'GoldStandard']</td>\n",
       "      <td>\"Kein Zweifel\", schreibt Alb. Schaeffle 1), v...</td>\n",
       "    </tr>\n",
       "    <tr>\n",
       "      <th>3</th>\n",
       "      <td>Mit je weiterem Blick wir die Stoffwelt zu übe...</td>\n",
       "      <td>1</td>\n",
       "      <td>3</td>\n",
       "      <td>0</td>\n",
       "      <td>Metaphernkandidat</td>\n",
       "      <td>[nan, 'Stoffwelt, verzwergt und entkleidet', n...</td>\n",
       "      <td>[nan, 'unser praktisches Ideal', nan, nan]</td>\n",
       "      <td>['B', 'K', 'A', 'GoldStandard']</td>\n",
       "      <td>\"Mit je weiterem Blick wir die Stoffwelt zu ü...</td>\n",
       "    </tr>\n",
       "    <tr>\n",
       "      <th>4</th>\n",
       "      <td>Solange das Menschengeschlecht seinen Zerstöre...</td>\n",
       "      <td>0</td>\n",
       "      <td>4</td>\n",
       "      <td>0</td>\n",
       "      <td>Metaphernkandidat</td>\n",
       "      <td>[nan, nan, nan, nan]</td>\n",
       "      <td>[nan, nan, nan, nan]</td>\n",
       "      <td>['B', 'K', 'A', 'GoldStandard']</td>\n",
       "      <td>\"Solange das Menschengeschlecht seinen Zerstö...</td>\n",
       "    </tr>\n",
       "  </tbody>\n",
       "</table>\n",
       "</div>"
      ],
      "text/plain": [
       "                                              Textstelle  Metapher  Kandidat  \\\n",
       "index                                                                          \n",
       "0      Der politische Körper verwendet in beiden Fäll...         3         1   \n",
       "1      Immer noch wird durch die protestantische Lehr...         0         4   \n",
       "2      Kein Zweifel, schreibt Alb. Schaeffle, vorauss...         0         4   \n",
       "3      Mit je weiterem Blick wir die Stoffwelt zu übe...         1         3   \n",
       "4      Solange das Menschengeschlecht seinen Zerstöre...         0         4   \n",
       "\n",
       "       Nein          Metapher?  \\\n",
       "index                            \n",
       "0         0           Metapher   \n",
       "1         0  Metaphernkandidat   \n",
       "2         0  Metaphernkandidat   \n",
       "3         0  Metaphernkandidat   \n",
       "4         0  Metaphernkandidat   \n",
       "\n",
       "                                                   Fokus  \\\n",
       "index                                                      \n",
       "0      ['Zähnen und Krallen', 'Zähnen und Krallen', n...   \n",
       "1                                   [nan, nan, nan, nan]   \n",
       "2                                   [nan, nan, nan, nan]   \n",
       "3      [nan, 'Stoffwelt, verzwergt und entkleidet', n...   \n",
       "4                                   [nan, nan, nan, nan]   \n",
       "\n",
       "                                                  Rahmen  \\\n",
       "index                                                      \n",
       "0      ['der politische Körper', 'der politische Körp...   \n",
       "1                                   [nan, nan, nan, nan]   \n",
       "2                                   [nan, nan, nan, nan]   \n",
       "3             [nan, 'unser praktisches Ideal', nan, nan]   \n",
       "4                                   [nan, nan, nan, nan]   \n",
       "\n",
       "                             Annotator  \\\n",
       "index                                    \n",
       "0      ['B', 'K', 'A', 'GoldStandard']   \n",
       "1      ['B', 'K', 'A', 'GoldStandard']   \n",
       "2      ['B', 'K', 'A', 'GoldStandard']   \n",
       "3      ['B', 'K', 'A', 'GoldStandard']   \n",
       "4      ['B', 'K', 'A', 'GoldStandard']   \n",
       "\n",
       "                                                    orig  \n",
       "index                                                     \n",
       "0       \"Der politische Körper verwendet in beiden Fä...  \n",
       "1       \"Immer noch wird durch die protestantische Le...  \n",
       "2       \"Kein Zweifel\", schreibt Alb. Schaeffle 1), v...  \n",
       "3       \"Mit je weiterem Blick wir die Stoffwelt zu ü...  \n",
       "4       \"Solange das Menschengeschlecht seinen Zerstö...  "
      ]
     },
     "execution_count": 2,
     "metadata": {},
     "output_type": "execute_result"
    }
   ],
   "source": [
    "import os\n",
    "\n",
    "cwd = os.getcwd()\n",
    "folder = \"clean+translated-data\"\n",
    "file = \"clean-de.csv\"\n",
    "path = \"/\".join( (cwd, folder, file) )\n",
    "\n",
    "df = pd.read_csv(path, index_col=0)\n",
    "df.head()"
   ]
  },
  {
   "cell_type": "code",
   "execution_count": 3,
   "id": "0eb8047e",
   "metadata": {
    "scrolled": true
   },
   "outputs": [
    {
     "data": {
      "text/plain": [
       "index\n",
       "0      Der politische Körper verwendet in beiden Fäll...\n",
       "1      Immer noch wird durch die protestantische Lehr...\n",
       "2      Kein Zweifel, schreibt Alb. Schaeffle, vorauss...\n",
       "3      Mit je weiterem Blick wir die Stoffwelt zu übe...\n",
       "4      Solange das Menschengeschlecht seinen Zerstöre...\n",
       "                             ...                        \n",
       "794    verlaufs sie hat Naturforschung in dem von uns...\n",
       "795    wenn wir uns ein Prinzip denken und auf Grund ...\n",
       "796    wenn wir von dem schlechten Worte Rechtsphilof...\n",
       "797    Die Macht, die das Kabinett hat, auf die versc...\n",
       "798    Über die Wirkungen der Kreuzung auf die körper...\n",
       "Name: Textstelle, Length: 799, dtype: object"
      ]
     },
     "execution_count": 3,
     "metadata": {},
     "output_type": "execute_result"
    }
   ],
   "source": [
    "df.Textstelle"
   ]
  },
  {
   "cell_type": "markdown",
   "id": "01465307",
   "metadata": {},
   "source": [
    "# We use Nidhaloffs deep translator\n",
    "https://github.com/nidhaloff/deep-translator"
   ]
  },
  {
   "cell_type": "code",
   "execution_count": 4,
   "id": "2720adcc",
   "metadata": {},
   "outputs": [
    {
     "name": "stdout",
     "output_type": "stream",
     "text": [
      "Requirement already satisfied: deep-translator in /Users/fynn/Uni/.venv/lib/python3.10/site-packages (1.8.3)\n",
      "Requirement already satisfied: requests<3.0.0,>=2.23.0 in /Users/fynn/Uni/.venv/lib/python3.10/site-packages (from deep-translator) (2.28.0)\n",
      "Requirement already satisfied: beautifulsoup4<5.0.0,>=4.9.1 in /Users/fynn/Uni/.venv/lib/python3.10/site-packages (from deep-translator) (4.11.1)\n",
      "Requirement already satisfied: soupsieve>1.2 in /Users/fynn/Uni/.venv/lib/python3.10/site-packages (from beautifulsoup4<5.0.0,>=4.9.1->deep-translator) (2.3.2.post1)\n",
      "Requirement already satisfied: charset-normalizer~=2.0.0 in /Users/fynn/Uni/.venv/lib/python3.10/site-packages (from requests<3.0.0,>=2.23.0->deep-translator) (2.0.12)\n",
      "Requirement already satisfied: urllib3<1.27,>=1.21.1 in /Users/fynn/Uni/.venv/lib/python3.10/site-packages (from requests<3.0.0,>=2.23.0->deep-translator) (1.26.9)\n",
      "Requirement already satisfied: idna<4,>=2.5 in /Users/fynn/Uni/.venv/lib/python3.10/site-packages (from requests<3.0.0,>=2.23.0->deep-translator) (2.10)\n",
      "Requirement already satisfied: certifi>=2017.4.17 in /Users/fynn/Uni/.venv/lib/python3.10/site-packages (from requests<3.0.0,>=2.23.0->deep-translator) (2022.5.18.1)\n"
     ]
    }
   ],
   "source": [
    "# https://github.com/nidhaloff/deep-translator\n",
    "!pip install -U deep-translator"
   ]
  },
  {
   "cell_type": "code",
   "execution_count": 5,
   "id": "5ce5493b",
   "metadata": {},
   "outputs": [
    {
     "name": "stdout",
     "output_type": "stream",
     "text": [
      "en\n",
      "da\n",
      "cs\n",
      "pl\n"
     ]
    }
   ],
   "source": [
    "from deep_translator import GoogleTranslator\n",
    "\n",
    "source = 'de'\n",
    "\n",
    "langs = [\n",
    "    'en',\n",
    "    'da',\n",
    "    'cs',\n",
    "    'pl'\n",
    "]\n",
    "\n",
    "for lang in langs:\n",
    "    \n",
    "    print(lang)\n",
    "    \n",
    "    translator = GoogleTranslator(source=source, target=lang)\n",
    "\n",
    "    text = df.Textstelle.to_list()\n",
    "    \n",
    "    #text = df.Textstelle.str[:500-1].to_list()\n",
    "    #K = list(range(0, len(text), 1))\n",
    "    #for i in range(1, len(K)):\n",
    "    #    batch = text[K[i-1] : K[i]];print(batch)\n",
    "    #    translations = translator.translate_batch(batch)\n",
    "    #    text[K[i-1] : K[i]] = translations\n",
    "    #    sleep(1.1)\n",
    "    \n",
    "    translations = translator.translate_batch(batch = text, source=source, target=lang)\n",
    "    \n",
    "    data = df.copy()\n",
    "    data[\"Textstelle\"] = translations\n",
    "    \n",
    "    \n",
    "    file = f\"clean-{source}-{lang}.csv\"\n",
    "    path = \"/\".join( (cwd, folder, file) )\n",
    "\n",
    "    data.to_csv(path)\n",
    "\n",
    "# en, da, cs, pl"
   ]
  },
  {
   "cell_type": "code",
   "execution_count": 6,
   "id": "1b461acc",
   "metadata": {},
   "outputs": [
    {
     "name": "stdout",
     "output_type": "stream",
     "text": [
      "en\n",
      "da\n",
      "cs\n",
      "pl\n"
     ]
    }
   ],
   "source": [
    "from deep_translator import GoogleTranslator\n",
    "\n",
    "source = 'de'\n",
    "\n",
    "langs = [\n",
    "    'en',\n",
    "    'da',\n",
    "    'cs',\n",
    "    'pl'\n",
    "]\n",
    "\n",
    "for lang in langs:\n",
    "    print(lang)\n",
    "    file = f\"clean-{source}-{lang}.csv\"\n",
    "    path = \"/\".join( (cwd, folder, file) )\n",
    "    \n",
    "    df = pd.read_csv(path, index_col=0)\n",
    "\n",
    "    translator = GoogleTranslator(source=lang, target=source)\n",
    "\n",
    "    translations = translator.translate_batch(df.Textstelle.to_list())\n",
    "    \n",
    "    data = df.copy()\n",
    "    data[\"Textstelle\"] = translations\n",
    "    \n",
    "    file = f\"clean-{lang}-{source}.csv\"\n",
    "    path = \"/\".join( (cwd, folder, file) )\n",
    "\n",
    "    data.to_csv(path)\n",
    "\n",
    "# en, da, cs, pl"
   ]
  }
 ],
 "metadata": {
  "kernelspec": {
   "display_name": "Python 3 (ipykernel)",
   "language": "python",
   "name": "python3"
  },
  "language_info": {
   "codemirror_mode": {
    "name": "ipython",
    "version": 3
   },
   "file_extension": ".py",
   "mimetype": "text/x-python",
   "name": "python",
   "nbconvert_exporter": "python",
   "pygments_lexer": "ipython3",
   "version": "3.10.5"
  }
 },
 "nbformat": 4,
 "nbformat_minor": 5
}
